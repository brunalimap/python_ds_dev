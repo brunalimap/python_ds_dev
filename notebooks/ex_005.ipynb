{
 "cells": [
  {
   "cell_type": "markdown",
   "metadata": {},
   "source": [
    "Plano de negócio \n",
    "\n",
    "- Saída: \n",
    "    - Uma tabela com as informações dos l\n",
    "\n",
    "\n",
    "\n",
    "\n",
    "- Processo: A sequência de passos organizada pela lógica de execução.\n",
    "    - Analisar o HTML da página\n",
    "    - Pesquisar melhor forma de realizar a extração de dados\n",
    "    - Coleta os dados seguintes dados categoria| nome_livro|avaliação_consumidor|estoque|preço\n",
    "    - Limpeza dos dados\n",
    "\n",
    "\n",
    "- Entrada:\n",
    "\n",
    "     1. Fonte de dados\n",
    "\n",
    "    - Site da Book to Scrape: https://books.toscrape.com\n",
    "    \n",
    "\n",
    "     2. Ferramentas\n",
    "\n",
    "    - Python 3.8.0\n",
    "    - Bibliotecas de Webscrapping (BS4, Selenium)\n",
    "    - Jupyter Notebooks (Análises e Prototipagem)\n",
    "    \n"
   ]
  },
  {
   "cell_type": "markdown",
   "metadata": {},
   "source": [
    "# 0.0 Imports"
   ]
  },
  {
   "cell_type": "code",
   "execution_count": 2,
   "metadata": {
    "ExecuteTime": {
     "end_time": "2021-05-25T23:32:31.573243Z",
     "start_time": "2021-05-25T23:32:29.458543Z"
    }
   },
   "outputs": [],
   "source": [
    "import re\n",
    "import requests\n",
    "import pandas as pd\n",
    "import numpy as np\n",
    "import seaborn as sns\n",
    "\n",
    "\n",
    "from datetime import datetime\n",
    "from bs4 import BeautifulSoup\n",
    "\n",
    "from IPython.core.display  import HTML\n",
    "from IPython.display       import Image\n",
    "\n",
    "from matplotlib            import pyplot as plt"
   ]
  },
  {
   "cell_type": "markdown",
   "metadata": {},
   "source": [
    "# 0.1 Helpe Functions"
   ]
  },
  {
   "cell_type": "code",
   "execution_count": 3,
   "metadata": {
    "ExecuteTime": {
     "end_time": "2021-05-25T23:32:32.675057Z",
     "start_time": "2021-05-25T23:32:32.662422Z"
    }
   },
   "outputs": [],
   "source": [
    "def jupyter_settings():\n",
    "    \n",
    "    %matplotlib inline \n",
    "    %pylab inline\n",
    "    \n",
    "    plt.style.use('bmh')\n",
    "    plt.rcParams['figure.figsize']=[20,10]\n",
    "    plt.rcParams['font.size']=10\n",
    "    \n",
    "    display( HTML('<style>.container {width:100% !important; }</style>'))\n",
    "    pd.options.display.max_columns = None\n",
    "    pd.options.display.max_rows = None\n",
    "    #pd.set_options('display.expand_frame_repr',False )\n",
    "    \n",
    "    sns.set()"
   ]
  },
  {
   "cell_type": "code",
   "execution_count": 4,
   "metadata": {
    "ExecuteTime": {
     "end_time": "2021-05-25T23:32:33.795284Z",
     "start_time": "2021-05-25T23:32:33.396609Z"
    }
   },
   "outputs": [
    {
     "name": "stdout",
     "output_type": "stream",
     "text": [
      "Populating the interactive namespace from numpy and matplotlib\n"
     ]
    },
    {
     "name": "stderr",
     "output_type": "stream",
     "text": [
      "/home/bruna/.pyenv/versions/3.8.0/envs/datascienceemproducao/lib/python3.8/site-packages/IPython/core/magics/pylab.py:159: UserWarning: pylab import has clobbered these variables: ['datetime']\n",
      "`%matplotlib` prevents importing * from pylab and numpy\n",
      "  warn(\"pylab import has clobbered these variables: %s\"  % clobbered +\n"
     ]
    },
    {
     "data": {
      "text/html": [
       "<style>.container {width:100% !important; }</style>"
      ],
      "text/plain": [
       "<IPython.core.display.HTML object>"
      ]
     },
     "metadata": {},
     "output_type": "display_data"
    },
    {
     "ename": "NameError",
     "evalue": "name 'warnings' is not defined",
     "output_type": "error",
     "traceback": [
      "\u001b[0;31m---------------------------------------------------------------------------\u001b[0m",
      "\u001b[0;31mNameError\u001b[0m                                 Traceback (most recent call last)",
      "\u001b[0;32m<ipython-input-4-c966eece938c>\u001b[0m in \u001b[0;36m<module>\u001b[0;34m\u001b[0m\n\u001b[1;32m      1\u001b[0m \u001b[0mjupyter_settings\u001b[0m\u001b[0;34m(\u001b[0m\u001b[0;34m)\u001b[0m\u001b[0;34m\u001b[0m\u001b[0;34m\u001b[0m\u001b[0m\n\u001b[1;32m      2\u001b[0m \u001b[0;34m\u001b[0m\u001b[0m\n\u001b[0;32m----> 3\u001b[0;31m \u001b[0mwarnings\u001b[0m\u001b[0;34m.\u001b[0m\u001b[0mfilterwarnings\u001b[0m \u001b[0;34m(\u001b[0m\u001b[0;34m'ignore'\u001b[0m\u001b[0;34m)\u001b[0m\u001b[0;34m\u001b[0m\u001b[0;34m\u001b[0m\u001b[0m\n\u001b[0m",
      "\u001b[0;31mNameError\u001b[0m: name 'warnings' is not defined"
     ]
    }
   ],
   "source": [
    "jupyter_settings()\n",
    "\n",
    "warnings.filterwarnings ('ignore')"
   ]
  },
  {
   "cell_type": "markdown",
   "metadata": {},
   "source": [
    "# 1.0 Data Collect"
   ]
  },
  {
   "cell_type": "code",
   "execution_count": null,
   "metadata": {
    "ExecuteTime": {
     "end_time": "2021-05-20T21:07:21.694693Z",
     "start_time": "2021-05-20T21:07:10.165798Z"
    }
   },
   "outputs": [],
   "source": [
    "book_title = []\n",
    "book_price = []\n",
    "book_stock = []\n",
    "book_rating = []\n",
    "book_category = []\n",
    "quantidade = 0\n",
    "\n",
    "\n",
    "for page in range(1,51):\n",
    "    \n",
    "    #Get webpage data\n",
    "    root_url = 'https://books.toscrape.com/catalogue/'\n",
    "    url = 'https://books.toscrape.com/catalogue/page-{}.html'.format(page)\n",
    "    \n",
    "    headers = {'User-Agent': 'Mozilla/5.0 (Macintosh; Intel Mac OS X 10_11_5),AppleWebKit/537.36 (KHTML, like Gecko) Chrome/50.0.2661.102 Safari/537.36'}\n",
    "    \n",
    "    response = requests.get(url,headers=headers)\n",
    "    \n",
    "    # Make Soup\n",
    "    soup = BeautifulSoup(response.text,'html.parser') \n",
    "    \n",
    "    \n",
    "    \n",
    "    book = soup.find_all('article', class_='product_pod')\n",
    "    \n",
    "    for book in book:\n",
    "        \n",
    "        # Get Hyper Link\n",
    "        base_url = book.h3.a['href'].strip()\n",
    "        url = root_url + base_url\n",
    "        \n",
    "        page_single = requests.get(url)\n",
    "        soup_single = BeautifulSoup(page_single.text,'html.parser') \n",
    "             \n",
    "        \n",
    "        book_single = soup_single.find('article', class_='product_page')\n",
    "\n",
    "        info_book = book_single.find('div', class_='product_main')\n",
    "\n",
    "\n",
    "        #Scraping Data\n",
    "        title = info_book.h1.get_text().strip()\n",
    "        price = info_book.find('p', class_='price_color').get_text()\n",
    "        stock = info_book.find('p', class_='availability').get_text().split()\n",
    "        rating = info_book.find('p','star-rating')['class'][1].strip()\n",
    "        category = soup_single.find('ul', class_='breadcrumb').find_all('li')[2].a.get_text() \n",
    "\n",
    "        #clean data\n",
    "        stock_clean = re.findall(r\"\\d+\", stock)[0]\n",
    "\n",
    "        #rating_clean = clean.str_to_int(rating)\n",
    "\n",
    "        book_title.append(title)\n",
    "        book_price.append(price)\n",
    "        book_stock.append(stock_clean)\n",
    "        book_rating.append(rating)\n",
    "        book_category.append(category)\n",
    "\n",
    "\n",
    "        quantidade = quantidade +1\n",
    "        print(quantidade)"
   ]
  },
  {
   "cell_type": "code",
   "execution_count": null,
   "metadata": {
    "ExecuteTime": {
     "end_time": "2021-05-20T20:57:45.412781Z",
     "start_time": "2021-05-20T20:57:45.406752Z"
    }
   },
   "outputs": [],
   "source": [
    "data = pd.DataFrame({'book_category': book_category,\n",
    "                    'book_title': book_title,\n",
    "                    'book_price': book_price,\n",
    "                    'book_stock': book_stock,\n",
    "                    'book_rating': book_rating})\n",
    "                    \n"
   ]
  },
  {
   "cell_type": "code",
   "execution_count": null,
   "metadata": {
    "ExecuteTime": {
     "end_time": "2021-05-20T19:06:42.029601Z",
     "start_time": "2021-05-20T19:06:42.014704Z"
    }
   },
   "outputs": [],
   "source": [
    "data = data.loc[((data['book_category'] == 'Classics') | (data['book_category'] == 'Science Fiction')\n",
    "                |(data['book_category'] == 'Humor')|(data['book_category'] == 'Business'))]\n",
    "\n"
   ]
  },
  {
   "cell_type": "code",
   "execution_count": 6,
   "metadata": {
    "ExecuteTime": {
     "end_time": "2021-05-25T23:32:44.038167Z",
     "start_time": "2021-05-25T23:32:44.032921Z"
    }
   },
   "outputs": [],
   "source": [
    "from datetime import datetime\n",
    "#scrapy datetime\n",
    "data.insert(1, 'scrapy_datetime',(datetime.now().strftime('%Y-%m-%d %H:%M:%S')),allow_duplicates=False)"
   ]
  },
  {
   "cell_type": "code",
   "execution_count": 7,
   "metadata": {
    "ExecuteTime": {
     "end_time": "2021-05-25T23:32:44.929038Z",
     "start_time": "2021-05-25T23:32:44.909266Z"
    }
   },
   "outputs": [
    {
     "data": {
      "text/html": [
       "<div>\n",
       "<style scoped>\n",
       "    .dataframe tbody tr th:only-of-type {\n",
       "        vertical-align: middle;\n",
       "    }\n",
       "\n",
       "    .dataframe tbody tr th {\n",
       "        vertical-align: top;\n",
       "    }\n",
       "\n",
       "    .dataframe thead th {\n",
       "        text-align: right;\n",
       "    }\n",
       "</style>\n",
       "<table border=\"1\" class=\"dataframe\">\n",
       "  <thead>\n",
       "    <tr style=\"text-align: right;\">\n",
       "      <th></th>\n",
       "      <th>book_category</th>\n",
       "      <th>scrapy_datetime</th>\n",
       "      <th>book_title</th>\n",
       "      <th>book_price</th>\n",
       "      <th>book_stock</th>\n",
       "      <th>book_rating</th>\n",
       "    </tr>\n",
       "  </thead>\n",
       "  <tbody>\n",
       "    <tr>\n",
       "      <th>0</th>\n",
       "      <td>Business</td>\n",
       "      <td>2021-05-25 20:32:44</td>\n",
       "      <td>The Dirty Little Secrets of Getting Your Dream...</td>\n",
       "      <td>Â£33.34</td>\n",
       "      <td>['In', 'stock', '(19', 'available)']</td>\n",
       "      <td>Four</td>\n",
       "    </tr>\n",
       "    <tr>\n",
       "      <th>1</th>\n",
       "      <td>Science Fiction</td>\n",
       "      <td>2021-05-25 20:32:44</td>\n",
       "      <td>Mesaerion: The Best Science Fiction Stories 18...</td>\n",
       "      <td>Â£37.59</td>\n",
       "      <td>['In', 'stock', '(19', 'available)']</td>\n",
       "      <td>One</td>\n",
       "    </tr>\n",
       "    <tr>\n",
       "      <th>2</th>\n",
       "      <td>Science Fiction</td>\n",
       "      <td>2021-05-25 20:32:44</td>\n",
       "      <td>Join</td>\n",
       "      <td>Â£35.67</td>\n",
       "      <td>['In', 'stock', '(16', 'available)']</td>\n",
       "      <td>Five</td>\n",
       "    </tr>\n",
       "    <tr>\n",
       "      <th>3</th>\n",
       "      <td>Science Fiction</td>\n",
       "      <td>2021-05-25 20:32:44</td>\n",
       "      <td>William Shakespeare's Star Wars: Verily, A New...</td>\n",
       "      <td>Â£43.30</td>\n",
       "      <td>['In', 'stock', '(15', 'available)']</td>\n",
       "      <td>Four</td>\n",
       "    </tr>\n",
       "    <tr>\n",
       "      <th>4</th>\n",
       "      <td>Business</td>\n",
       "      <td>2021-05-25 20:32:44</td>\n",
       "      <td>The Third Wave: An Entrepreneurâs Vision of ...</td>\n",
       "      <td>Â£12.61</td>\n",
       "      <td>['In', 'stock', '(15', 'available)']</td>\n",
       "      <td>Five</td>\n",
       "    </tr>\n",
       "  </tbody>\n",
       "</table>\n",
       "</div>"
      ],
      "text/plain": [
       "     book_category      scrapy_datetime  \\\n",
       "0         Business  2021-05-25 20:32:44   \n",
       "1  Science Fiction  2021-05-25 20:32:44   \n",
       "2  Science Fiction  2021-05-25 20:32:44   \n",
       "3  Science Fiction  2021-05-25 20:32:44   \n",
       "4         Business  2021-05-25 20:32:44   \n",
       "\n",
       "                                          book_title book_price  \\\n",
       "0  The Dirty Little Secrets of Getting Your Dream...    Â£33.34   \n",
       "1  Mesaerion: The Best Science Fiction Stories 18...    Â£37.59   \n",
       "2                                               Join    Â£35.67   \n",
       "3  William Shakespeare's Star Wars: Verily, A New...    Â£43.30   \n",
       "4  The Third Wave: An Entrepreneurâs Vision of ...    Â£12.61   \n",
       "\n",
       "                             book_stock book_rating  \n",
       "0  ['In', 'stock', '(19', 'available)']        Four  \n",
       "1  ['In', 'stock', '(19', 'available)']         One  \n",
       "2  ['In', 'stock', '(16', 'available)']        Five  \n",
       "3  ['In', 'stock', '(15', 'available)']        Four  \n",
       "4  ['In', 'stock', '(15', 'available)']        Five  "
      ]
     },
     "execution_count": 7,
     "metadata": {},
     "output_type": "execute_result"
    }
   ],
   "source": [
    "data.head()"
   ]
  },
  {
   "cell_type": "code",
   "execution_count": 8,
   "metadata": {
    "ExecuteTime": {
     "end_time": "2021-05-25T23:32:48.234398Z",
     "start_time": "2021-05-25T23:32:48.221841Z"
    }
   },
   "outputs": [],
   "source": [
    "data.to_csv('/home/bruna/Documentos/new_project/dataset_v1.csv',index=False)"
   ]
  },
  {
   "cell_type": "markdown",
   "metadata": {},
   "source": [
    "# 2.0 Clean Data"
   ]
  },
  {
   "cell_type": "code",
   "execution_count": 5,
   "metadata": {
    "ExecuteTime": {
     "end_time": "2021-05-25T23:32:40.473598Z",
     "start_time": "2021-05-25T23:32:40.464951Z"
    }
   },
   "outputs": [],
   "source": [
    "data= pd.read_csv('/home/bruna/Documentos/new_project/data/dataset_v1.csv')"
   ]
  },
  {
   "cell_type": "code",
   "execution_count": null,
   "metadata": {
    "ExecuteTime": {
     "end_time": "2021-05-25T23:32:55.754539Z",
     "start_time": "2021-05-25T23:32:55.708840Z"
    }
   },
   "outputs": [],
   "source": [
    "## book category\n",
    "data['book_category'] = data['book_category'].apply(lambda x: x.lower()) \n",
    "\n",
    "# product price \n",
    "data['book_price']= data['book_price'].apply(lambda x: x.replace('Â£','') if pd.notnull(x) else x).astype(float)\n",
    "\n",
    "# book rating\n",
    "data['book_rating'] = data['book_rating'].apply(lambda x: x.lower()) \n",
    "\n",
    "# book stock\n",
    "\n",
    "regex ='\\W((.+?),(.+?)),'\n",
    "\n",
    "data['book_stock']= data['book_stock'].apply(lambda x: re.match(regex, x).group(1))\n",
    "data['book_stock']= data['book_stock'].apply(lambda x: x.strip(\"'\"))\n",
    "data['book_stock']= data['book_stock'].apply(lambda x: x.replace(\"'\" , \"\").replace(\",\" , \"\"))\n",
    "\n",
    "\n",
    "data.sample(5)"
   ]
  },
  {
   "cell_type": "code",
   "execution_count": 9,
   "metadata": {
    "ExecuteTime": {
     "end_time": "2021-05-25T23:32:52.932509Z",
     "start_time": "2021-05-25T23:32:52.916716Z"
    }
   },
   "outputs": [
    {
     "data": {
      "text/html": [
       "<div>\n",
       "<style scoped>\n",
       "    .dataframe tbody tr th:only-of-type {\n",
       "        vertical-align: middle;\n",
       "    }\n",
       "\n",
       "    .dataframe tbody tr th {\n",
       "        vertical-align: top;\n",
       "    }\n",
       "\n",
       "    .dataframe thead th {\n",
       "        text-align: right;\n",
       "    }\n",
       "</style>\n",
       "<table border=\"1\" class=\"dataframe\">\n",
       "  <thead>\n",
       "    <tr style=\"text-align: right;\">\n",
       "      <th></th>\n",
       "      <th>book_category</th>\n",
       "      <th>scrapy_datetime</th>\n",
       "      <th>book_title</th>\n",
       "      <th>book_price</th>\n",
       "      <th>book_stock</th>\n",
       "      <th>book_rating</th>\n",
       "    </tr>\n",
       "  </thead>\n",
       "  <tbody>\n",
       "    <tr>\n",
       "      <th>35</th>\n",
       "      <td>Classics</td>\n",
       "      <td>2021-05-25 20:32:44</td>\n",
       "      <td>The Picture of Dorian Gray</td>\n",
       "      <td>Â£29.70</td>\n",
       "      <td>['In', 'stock', '(3', 'available)']</td>\n",
       "      <td>Two</td>\n",
       "    </tr>\n",
       "    <tr>\n",
       "      <th>2</th>\n",
       "      <td>Science Fiction</td>\n",
       "      <td>2021-05-25 20:32:44</td>\n",
       "      <td>Join</td>\n",
       "      <td>Â£35.67</td>\n",
       "      <td>['In', 'stock', '(16', 'available)']</td>\n",
       "      <td>Five</td>\n",
       "    </tr>\n",
       "    <tr>\n",
       "      <th>4</th>\n",
       "      <td>Business</td>\n",
       "      <td>2021-05-25 20:32:44</td>\n",
       "      <td>The Third Wave: An Entrepreneurâs Vision of ...</td>\n",
       "      <td>Â£12.61</td>\n",
       "      <td>['In', 'stock', '(15', 'available)']</td>\n",
       "      <td>Five</td>\n",
       "    </tr>\n",
       "    <tr>\n",
       "      <th>37</th>\n",
       "      <td>Classics</td>\n",
       "      <td>2021-05-25 20:32:44</td>\n",
       "      <td>The Complete Stories and Poems (The Works of E...</td>\n",
       "      <td>Â£26.78</td>\n",
       "      <td>['In', 'stock', '(3', 'available)']</td>\n",
       "      <td>Four</td>\n",
       "    </tr>\n",
       "    <tr>\n",
       "      <th>5</th>\n",
       "      <td>Science Fiction</td>\n",
       "      <td>2021-05-25 20:32:44</td>\n",
       "      <td>The Project</td>\n",
       "      <td>Â£10.65</td>\n",
       "      <td>['In', 'stock', '(15', 'available)']</td>\n",
       "      <td>One</td>\n",
       "    </tr>\n",
       "  </tbody>\n",
       "</table>\n",
       "</div>"
      ],
      "text/plain": [
       "      book_category      scrapy_datetime  \\\n",
       "35         Classics  2021-05-25 20:32:44   \n",
       "2   Science Fiction  2021-05-25 20:32:44   \n",
       "4          Business  2021-05-25 20:32:44   \n",
       "37         Classics  2021-05-25 20:32:44   \n",
       "5   Science Fiction  2021-05-25 20:32:44   \n",
       "\n",
       "                                           book_title book_price  \\\n",
       "35                         The Picture of Dorian Gray    Â£29.70   \n",
       "2                                                Join    Â£35.67   \n",
       "4   The Third Wave: An Entrepreneurâs Vision of ...    Â£12.61   \n",
       "37  The Complete Stories and Poems (The Works of E...    Â£26.78   \n",
       "5                                         The Project    Â£10.65   \n",
       "\n",
       "                              book_stock book_rating  \n",
       "35   ['In', 'stock', '(3', 'available)']         Two  \n",
       "2   ['In', 'stock', '(16', 'available)']        Five  \n",
       "4   ['In', 'stock', '(15', 'available)']        Five  \n",
       "37   ['In', 'stock', '(3', 'available)']        Four  \n",
       "5   ['In', 'stock', '(15', 'available)']         One  "
      ]
     },
     "execution_count": 9,
     "metadata": {},
     "output_type": "execute_result"
    }
   ],
   "source": [
    "data.sample(5)"
   ]
  },
  {
   "cell_type": "code",
   "execution_count": 11,
   "metadata": {
    "ExecuteTime": {
     "end_time": "2021-05-25T23:33:24.216169Z",
     "start_time": "2021-05-25T23:33:24.210038Z"
    }
   },
   "outputs": [],
   "source": [
    "data.to_csv('/home/bruna/Documentos/new_project/dataset_v2.csv',index=False)"
   ]
  },
  {
   "cell_type": "code",
   "execution_count": null,
   "metadata": {},
   "outputs": [],
   "source": []
  }
 ],
 "metadata": {
  "kernelspec": {
   "display_name": "Python 3",
   "language": "python",
   "name": "python3"
  },
  "language_info": {
   "codemirror_mode": {
    "name": "ipython",
    "version": 3
   },
   "file_extension": ".py",
   "mimetype": "text/x-python",
   "name": "python",
   "nbconvert_exporter": "python",
   "pygments_lexer": "ipython3",
   "version": "3.8.0"
  }
 },
 "nbformat": 4,
 "nbformat_minor": 2
}
