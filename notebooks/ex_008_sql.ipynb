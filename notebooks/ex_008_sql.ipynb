{
 "cells": [
  {
   "cell_type": "markdown",
   "metadata": {},
   "source": [
    "# Objetivo "
   ]
  },
  {
   "cell_type": "markdown",
   "metadata": {},
   "source": [
    "<b>Sobre o conjunto de dados:</b> Este dataset foi fornecido pela Olist que tem como objetivo conecta pequenas empresas de todo o Brasil a canais sem complicações e com um único contrato. Nele contém informações de 100 mil pedidos de 2016 a 2018 realizados em diversos mercados no Brasil. \n",
    "\n",
    "O objetivo deste notebook é\n",
    "\n",
    "- Carregar as tabelas para um banco de dados. \n",
    "- Responder algumas questões sobre o conjunto de dados utilizando a linguagem SQL.\n",
    "\n",
    "\n",
    "\n",
    " "
   ]
  },
  {
   "cell_type": "markdown",
   "metadata": {},
   "source": [
    "# 0.0 Imports"
   ]
  },
  {
   "cell_type": "code",
   "execution_count": 1,
   "metadata": {
    "ExecuteTime": {
     "end_time": "2021-07-12T17:14:37.923531Z",
     "start_time": "2021-07-12T17:14:35.645142Z"
    }
   },
   "outputs": [],
   "source": [
    "import re\n",
    "import requests\n",
    "import warnings\n",
    "import inflection\n",
    "\n",
    "import numpy   as np\n",
    "import pandas  as pd\n",
    "import seaborn as sns\n",
    "\n",
    "from datetime              import datetime\n",
    "from bs4                   import BeautifulSoup\n",
    "from IPython.core.display  import HTML\n",
    "from IPython.display       import Image\n",
    "\n",
    "from matplotlib            import pyplot as plt"
   ]
  },
  {
   "cell_type": "markdown",
   "metadata": {},
   "source": [
    "## 0.1 Helper Functions"
   ]
  },
  {
   "cell_type": "code",
   "execution_count": 2,
   "metadata": {
    "ExecuteTime": {
     "end_time": "2021-07-12T17:14:37.957864Z",
     "start_time": "2021-07-12T17:14:37.926478Z"
    }
   },
   "outputs": [],
   "source": [
    "def jupyter_settings():\n",
    "    \n",
    "    %matplotlib inline \n",
    "    %pylab inline\n",
    "    \n",
    "    plt.style.use('bmh')\n",
    "    plt.rcParams['figure.figsize']=[20,10]\n",
    "    plt.rcParams['font.size']=10\n",
    "    \n",
    "    display( HTML('<style>.container {width:90% !important; }</style>'))\n",
    "    pd.options.display.max_columns = None\n",
    "    pd.options.display.max_rows = None\n",
    "    #pd.set_options('display.expand_frame_repr',False )\n",
    "    \n",
    "    sns.set()"
   ]
  },
  {
   "cell_type": "code",
   "execution_count": 3,
   "metadata": {
    "ExecuteTime": {
     "end_time": "2021-07-12T17:14:38.941842Z",
     "start_time": "2021-07-12T17:14:38.917713Z"
    }
   },
   "outputs": [
    {
     "name": "stdout",
     "output_type": "stream",
     "text": [
      "Populating the interactive namespace from numpy and matplotlib\n"
     ]
    },
    {
     "name": "stderr",
     "output_type": "stream",
     "text": [
      "/home/bruna/.pyenv/versions/3.8.0/envs/datascienceemproducao/lib/python3.8/site-packages/IPython/core/magics/pylab.py:159: UserWarning: pylab import has clobbered these variables: ['datetime']\n",
      "`%matplotlib` prevents importing * from pylab and numpy\n",
      "  warn(\"pylab import has clobbered these variables: %s\"  % clobbered +\n"
     ]
    },
    {
     "data": {
      "text/html": [
       "<style>.container {width:90% !important; }</style>"
      ],
      "text/plain": [
       "<IPython.core.display.HTML object>"
      ]
     },
     "metadata": {},
     "output_type": "display_data"
    }
   ],
   "source": [
    "jupyter_settings()\n",
    "\n",
    "warnings.filterwarnings ('ignore')"
   ]
  },
  {
   "cell_type": "markdown",
   "metadata": {},
   "source": [
    "# 1.0 Connection Database"
   ]
  },
  {
   "cell_type": "code",
   "execution_count": 4,
   "metadata": {
    "ExecuteTime": {
     "end_time": "2021-07-12T17:14:41.332394Z",
     "start_time": "2021-07-12T17:14:41.060645Z"
    }
   },
   "outputs": [],
   "source": [
    "import sqlite3\n",
    "from sqlalchemy import create_engine"
   ]
  },
  {
   "cell_type": "code",
   "execution_count": 5,
   "metadata": {
    "ExecuteTime": {
     "end_time": "2021-07-12T17:14:41.985472Z",
     "start_time": "2021-07-12T17:14:41.955897Z"
    }
   },
   "outputs": [],
   "source": [
    "db = create_engine('sqlite:///db_olist.sqlite', echo = False)\n",
    "\n",
    "conn = db.connect()"
   ]
  },
  {
   "cell_type": "markdown",
   "metadata": {},
   "source": [
    "# 2.0 Loading Dataset"
   ]
  },
  {
   "cell_type": "code",
   "execution_count": 25,
   "metadata": {
    "ExecuteTime": {
     "end_time": "2021-06-25T14:42:50.909827Z",
     "start_time": "2021-06-25T14:42:48.208660Z"
    }
   },
   "outputs": [],
   "source": [
    "df_orders = pd.read_csv('../datasets/olist_orders_dataset.csv')\n",
    "df_sellers = pd.read_csv('../datasets/olist_sellers_dataset.csv')\n",
    "df_products = pd.read_csv('../datasets/olist_products_dataset.csv')\n",
    "df_items = pd.read_csv('../datasets/olist_order_items_dataset.csv')\n",
    "df_customers = pd.read_csv('../datasets/olist_customers_dataset.csv')\n",
    "df_reviews = pd.read_csv('../datasets/olist_order_reviews_dataset.csv')\n",
    "df_geolocation = pd.read_csv('../datasets/olist_geolocation_dataset.csv')\n",
    "df_payments = pd.read_csv('../datasets/olist_order_payments_dataset.csv')\n",
    "df_category = pd.read_csv('../datasets/product_category_name_translation.csv')"
   ]
  },
  {
   "cell_type": "markdown",
   "metadata": {
    "heading_collapsed": true
   },
   "source": [
    "# 3.0 Carregando Dataset in the database"
   ]
  },
  {
   "cell_type": "markdown",
   "metadata": {
    "heading_collapsed": true,
    "hidden": true
   },
   "source": [
    "## 3.1 Table Orders"
   ]
  },
  {
   "cell_type": "code",
   "execution_count": 18,
   "metadata": {
    "ExecuteTime": {
     "end_time": "2021-06-25T14:34:03.169654Z",
     "start_time": "2021-06-25T14:34:01.161553Z"
    },
    "hidden": true
   },
   "outputs": [],
   "source": [
    "schema_orders= '''\n",
    "\n",
    "CREATE TABLE tb_orders(\n",
    "        order_id                         TEXT,\n",
    "        customer_id                      TEXT,\n",
    "        order_status                     TEXT,\n",
    "        order_purchase_timestamp         TEXT,\n",
    "        order_approved_at                TEXT,\n",
    "        order_delivered_carrier_date     TEXT,\n",
    "        order_delivered_customer_date    TEXT,\n",
    "        order_estimated_delivery_date    TEXT\n",
    "\n",
    ")\n",
    "'''\n",
    "\n",
    "#create schema\n",
    "#conn.execute(schema_orders)\n",
    "\n",
    "#insert data into database\n",
    "df_orders.to_sql('orders', con=conn, if_exists='append', index=False)\n"
   ]
  },
  {
   "cell_type": "markdown",
   "metadata": {
    "heading_collapsed": true,
    "hidden": true
   },
   "source": [
    "## 3.2 Table Sellers"
   ]
  },
  {
   "cell_type": "code",
   "execution_count": 30,
   "metadata": {
    "ExecuteTime": {
     "end_time": "2021-06-25T14:54:35.454012Z",
     "start_time": "2021-06-25T14:54:35.398523Z"
    },
    "hidden": true
   },
   "outputs": [],
   "source": [
    "schema_sellers= '''\n",
    "\n",
    "CREATE TABLE tb_sellers(\n",
    "        seller_id                 TEXT,\n",
    "        seller_zip_code_prefix    INTEGER,\n",
    "        seller_city               TEXT,\n",
    "        seller_state              TEXT\n",
    "\n",
    ")\n",
    "'''\n",
    "\n",
    "#create schema\n",
    "#conn.execute(schema_sellers)\n",
    "\n",
    "#insert data into database\n",
    "df_sellers.to_sql('sellers', con=conn, if_exists='append', index=False)"
   ]
  },
  {
   "cell_type": "markdown",
   "metadata": {
    "heading_collapsed": true,
    "hidden": true
   },
   "source": [
    "## 3.3 Table Products"
   ]
  },
  {
   "cell_type": "code",
   "execution_count": 33,
   "metadata": {
    "ExecuteTime": {
     "end_time": "2021-06-25T15:05:18.703045Z",
     "start_time": "2021-06-25T15:05:18.078723Z"
    },
    "hidden": true
   },
   "outputs": [],
   "source": [
    "schema_products= '''\n",
    "\n",
    "CREATE TABLE tb_products(\n",
    "        product_id                    TEXT,\n",
    "        product_category_name         TEXT,\n",
    "        product_name_lenght           REAL,\n",
    "        product_description_lenght    REAL,\n",
    "        product_photos_qty            REAL,\n",
    "        product_weight_g              REAL,\n",
    "        product_length_cm             REAL,\n",
    "        product_height_cm             REAL,\n",
    "        product_width_cm              REAL\n",
    "\n",
    ")\n",
    "'''\n",
    "\n",
    "#create schema\n",
    "conn.execute(schema_products)\n",
    "\n",
    "#insert data into database\n",
    "df_products.to_sql('products', con=conn, if_exists='append', index=False)"
   ]
  },
  {
   "cell_type": "markdown",
   "metadata": {
    "heading_collapsed": true,
    "hidden": true
   },
   "source": [
    "## 3.4 Table Items"
   ]
  },
  {
   "cell_type": "code",
   "execution_count": 35,
   "metadata": {
    "ExecuteTime": {
     "end_time": "2021-06-25T15:08:52.484211Z",
     "start_time": "2021-06-25T15:08:50.578259Z"
    },
    "hidden": true
   },
   "outputs": [],
   "source": [
    "schema_items= '''\n",
    "\n",
    "CREATE TABLE tb_items(\n",
    "        order_id                TEXT,\n",
    "        order_item_id           INTEGER,\n",
    "        product_id              TEXT,\n",
    "        seller_id               TEXT,\n",
    "        shipping_limit_date     TEXT,\n",
    "        price                   REAL,\n",
    "        freight_value           REAL\n",
    "\n",
    ")\n",
    "'''\n",
    "\n",
    "#create schema\n",
    "conn.execute(schema_items)\n",
    "\n",
    "#insert data into database\n",
    "df_items.to_sql('items', con=conn, if_exists='append', index=False)"
   ]
  },
  {
   "cell_type": "markdown",
   "metadata": {
    "heading_collapsed": true,
    "hidden": true
   },
   "source": [
    "## 3.5 Table Customers"
   ]
  },
  {
   "cell_type": "code",
   "execution_count": null,
   "metadata": {
    "hidden": true
   },
   "outputs": [],
   "source": [
    "schema_customers= '''\n",
    "\n",
    "CREATE TABLE tb_customers(\n",
    "        customer_id                 TEXT,\n",
    "        customer_unique_id          TEXT,\n",
    "        customer_zip_code_prefix    INTEGER,\n",
    "        customer_city               TEXT,\n",
    "        customer_state              TEXT\n",
    ")\n",
    "'''\n",
    "\n",
    "#create schema\n",
    "conn.execute(schema_customers)\n",
    "\n",
    "#insert data into database\n",
    "df_customers.to_sql('customers', con=conn, if_exists='append', index=False)"
   ]
  },
  {
   "cell_type": "markdown",
   "metadata": {
    "heading_collapsed": true,
    "hidden": true
   },
   "source": [
    "## 3.6 Table Reviews"
   ]
  },
  {
   "cell_type": "code",
   "execution_count": 40,
   "metadata": {
    "ExecuteTime": {
     "end_time": "2021-06-25T15:21:48.996517Z",
     "start_time": "2021-06-25T15:21:47.118821Z"
    },
    "hidden": true
   },
   "outputs": [],
   "source": [
    "schema_reviews= '''\n",
    "\n",
    "CREATE TABLE tb_reviews(\n",
    "        review_id                  TEXT,\n",
    "        order_id                   TEXT,\n",
    "        review_score               INTEGER,\n",
    "        review_comment_title       TEXT,\n",
    "        review_comment_message     TEXT,\n",
    "        review_creation_date       TEXT,\n",
    "        review_answer_timestamp    TEXT\n",
    ")\n",
    "'''\n",
    "\n",
    "#create schema\n",
    "conn.execute(schema_reviews)\n",
    "\n",
    "#insert data into database\n",
    "df_reviews.to_sql('reviews', con=conn, if_exists='append', index=False)"
   ]
  },
  {
   "cell_type": "markdown",
   "metadata": {
    "heading_collapsed": true,
    "hidden": true
   },
   "source": [
    "## 3.7 Table Geolocation"
   ]
  },
  {
   "cell_type": "code",
   "execution_count": 42,
   "metadata": {
    "ExecuteTime": {
     "end_time": "2021-06-25T15:24:15.127076Z",
     "start_time": "2021-06-25T15:24:04.878318Z"
    },
    "hidden": true
   },
   "outputs": [],
   "source": [
    "schema_geolocation= '''\n",
    "\n",
    "CREATE TABLE tb_geolocation(\n",
    "        geolocation_zip_code_prefix     INTEGER,\n",
    "        geolocation_lat                 REAL,\n",
    "        geolocation_lng                 REAL,\n",
    "        geolocation_city                TEXT,\n",
    "        geolocation_state               TEXT\n",
    ")\n",
    "'''\n",
    "\n",
    "#create schema\n",
    "conn.execute(schema_geolocation)\n",
    "\n",
    "#insert data into database\n",
    "df_geolocation.to_sql('geolocation', con=conn, if_exists='append', index=False)"
   ]
  },
  {
   "cell_type": "markdown",
   "metadata": {
    "heading_collapsed": true,
    "hidden": true
   },
   "source": [
    "## 3.8 Table Payments"
   ]
  },
  {
   "cell_type": "code",
   "execution_count": 45,
   "metadata": {
    "ExecuteTime": {
     "end_time": "2021-06-25T15:27:20.583651Z",
     "start_time": "2021-06-25T15:27:19.550247Z"
    },
    "hidden": true
   },
   "outputs": [],
   "source": [
    "schema_payments= '''\n",
    "\n",
    "CREATE TABLE tb_payments(\n",
    "        order_id                 TEXT,\n",
    "        payment_sequential       INTEGER, \n",
    "        payment_type             TEXT,\n",
    "        payment_installments     INTEGER,\n",
    "        payment_value            REAL\n",
    ")\n",
    "'''\n",
    "\n",
    "#create schema\n",
    "conn.execute(schema_payments)\n",
    "\n",
    "#insert data into database\n",
    "df_payments.to_sql('payments', con=conn, if_exists='append', index=False)"
   ]
  },
  {
   "cell_type": "markdown",
   "metadata": {
    "heading_collapsed": true,
    "hidden": true
   },
   "source": [
    "## 3.9 Table Category"
   ]
  },
  {
   "cell_type": "code",
   "execution_count": 47,
   "metadata": {
    "ExecuteTime": {
     "end_time": "2021-06-25T15:29:35.268347Z",
     "start_time": "2021-06-25T15:29:35.215020Z"
    },
    "hidden": true
   },
   "outputs": [],
   "source": [
    "schema_category= '''\n",
    "\n",
    "CREATE TABLE tb_category(\n",
    "        product_category_name            TEXT,\n",
    "        product_category_name_english    TEXT\n",
    ")\n",
    "'''\n",
    "\n",
    "#create schema\n",
    "conn.execute(schema_category)\n",
    "\n",
    "#insert data into database\n",
    "df_category.to_sql('category', con=conn, if_exists='append', index=False)"
   ]
  },
  {
   "cell_type": "markdown",
   "metadata": {
    "heading_collapsed": true
   },
   "source": [
    "# 3.10 Query"
   ]
  },
  {
   "cell_type": "code",
   "execution_count": 18,
   "metadata": {
    "ExecuteTime": {
     "end_time": "2021-06-28T20:15:27.296317Z",
     "start_time": "2021-06-28T20:15:27.282366Z"
    },
    "hidden": true
   },
   "outputs": [
    {
     "data": {
      "text/html": [
       "<div>\n",
       "<style scoped>\n",
       "    .dataframe tbody tr th:only-of-type {\n",
       "        vertical-align: middle;\n",
       "    }\n",
       "\n",
       "    .dataframe tbody tr th {\n",
       "        vertical-align: top;\n",
       "    }\n",
       "\n",
       "    .dataframe thead th {\n",
       "        text-align: right;\n",
       "    }\n",
       "</style>\n",
       "<table border=\"1\" class=\"dataframe\">\n",
       "  <thead>\n",
       "    <tr style=\"text-align: right;\">\n",
       "      <th></th>\n",
       "      <th>name</th>\n",
       "    </tr>\n",
       "  </thead>\n",
       "  <tbody>\n",
       "    <tr>\n",
       "      <th>0</th>\n",
       "      <td>tb_orders</td>\n",
       "    </tr>\n",
       "    <tr>\n",
       "      <th>1</th>\n",
       "      <td>tb_sellers</td>\n",
       "    </tr>\n",
       "    <tr>\n",
       "      <th>2</th>\n",
       "      <td>tb_products</td>\n",
       "    </tr>\n",
       "    <tr>\n",
       "      <th>3</th>\n",
       "      <td>tb_items</td>\n",
       "    </tr>\n",
       "    <tr>\n",
       "      <th>4</th>\n",
       "      <td>tb_customers</td>\n",
       "    </tr>\n",
       "    <tr>\n",
       "      <th>5</th>\n",
       "      <td>tb_reviews</td>\n",
       "    </tr>\n",
       "    <tr>\n",
       "      <th>6</th>\n",
       "      <td>tb_geolocation</td>\n",
       "    </tr>\n",
       "    <tr>\n",
       "      <th>7</th>\n",
       "      <td>tb_payments</td>\n",
       "    </tr>\n",
       "    <tr>\n",
       "      <th>8</th>\n",
       "      <td>tb_category</td>\n",
       "    </tr>\n",
       "  </tbody>\n",
       "</table>\n",
       "</div>"
      ],
      "text/plain": [
       "             name\n",
       "0       tb_orders\n",
       "1      tb_sellers\n",
       "2     tb_products\n",
       "3        tb_items\n",
       "4    tb_customers\n",
       "5      tb_reviews\n",
       "6  tb_geolocation\n",
       "7     tb_payments\n",
       "8     tb_category"
      ]
     },
     "execution_count": 18,
     "metadata": {},
     "output_type": "execute_result"
    }
   ],
   "source": [
    "# verificar as tabelas que possuo no banco de dados\n",
    "query = '''\n",
    "    SELECT name\n",
    "    FROM sqlite_master\n",
    "    WHERE type = 'table'\n",
    "'''\n",
    "\n",
    "# query = '''\n",
    "#     SELECT *\n",
    "#     FROM sellers\n",
    "# '''\n",
    "\n",
    "# query = '''\n",
    "#     ALTER TABLE category\n",
    "#     RENAME TO tb_category;\n",
    "\n",
    "# '''\n",
    "table = pd.read_sql_query(query,conn)\n",
    "table"
   ]
  },
  {
   "cell_type": "markdown",
   "metadata": {},
   "source": [
    "# 4.0 Exercícios Propostos"
   ]
  },
  {
   "cell_type": "markdown",
   "metadata": {},
   "source": [
    "## 4.1 Quantos pedidos foram feitos por cada tipo de pagamento?"
   ]
  },
  {
   "cell_type": "code",
   "execution_count": 6,
   "metadata": {
    "ExecuteTime": {
     "end_time": "2021-07-12T17:14:54.822666Z",
     "start_time": "2021-07-12T17:14:54.090747Z"
    }
   },
   "outputs": [
    {
     "data": {
      "text/html": [
       "<div>\n",
       "<style scoped>\n",
       "    .dataframe tbody tr th:only-of-type {\n",
       "        vertical-align: middle;\n",
       "    }\n",
       "\n",
       "    .dataframe tbody tr th {\n",
       "        vertical-align: top;\n",
       "    }\n",
       "\n",
       "    .dataframe thead th {\n",
       "        text-align: right;\n",
       "    }\n",
       "</style>\n",
       "<table border=\"1\" class=\"dataframe\">\n",
       "  <thead>\n",
       "    <tr style=\"text-align: right;\">\n",
       "      <th></th>\n",
       "      <th>payment_type</th>\n",
       "      <th>type_payments</th>\n",
       "    </tr>\n",
       "  </thead>\n",
       "  <tbody>\n",
       "    <tr>\n",
       "      <th>0</th>\n",
       "      <td>credit_card</td>\n",
       "      <td>76795</td>\n",
       "    </tr>\n",
       "    <tr>\n",
       "      <th>1</th>\n",
       "      <td>boleto</td>\n",
       "      <td>19784</td>\n",
       "    </tr>\n",
       "    <tr>\n",
       "      <th>2</th>\n",
       "      <td>voucher</td>\n",
       "      <td>5775</td>\n",
       "    </tr>\n",
       "    <tr>\n",
       "      <th>3</th>\n",
       "      <td>debit_card</td>\n",
       "      <td>1529</td>\n",
       "    </tr>\n",
       "    <tr>\n",
       "      <th>4</th>\n",
       "      <td>not_defined</td>\n",
       "      <td>3</td>\n",
       "    </tr>\n",
       "  </tbody>\n",
       "</table>\n",
       "</div>"
      ],
      "text/plain": [
       "  payment_type  type_payments\n",
       "0  credit_card          76795\n",
       "1       boleto          19784\n",
       "2      voucher           5775\n",
       "3   debit_card           1529\n",
       "4  not_defined              3"
      ]
     },
     "execution_count": 6,
     "metadata": {},
     "output_type": "execute_result"
    }
   ],
   "source": [
    "query = '''\n",
    "select \n",
    "    p.payment_type,\t\n",
    "    count(o.order_id) as type_payments\n",
    "from tb_orders o inner join tb_payments p ON (p.order_id = o.order_id)\n",
    "group by p.payment_type\n",
    "order by type_payments DESC;\n",
    "'''\n",
    "query_execute = pd.read_sql_query(query,conn)\n",
    "query_execute"
   ]
  },
  {
   "cell_type": "markdown",
   "metadata": {},
   "source": [
    "## 4.2 Qual o número máximo e mínimo de parcelas feitas nos pagamentos?"
   ]
  },
  {
   "cell_type": "code",
   "execution_count": 7,
   "metadata": {
    "ExecuteTime": {
     "end_time": "2021-07-12T17:14:55.887761Z",
     "start_time": "2021-07-12T17:14:55.848737Z"
    }
   },
   "outputs": [
    {
     "data": {
      "text/html": [
       "<div>\n",
       "<style scoped>\n",
       "    .dataframe tbody tr th:only-of-type {\n",
       "        vertical-align: middle;\n",
       "    }\n",
       "\n",
       "    .dataframe tbody tr th {\n",
       "        vertical-align: top;\n",
       "    }\n",
       "\n",
       "    .dataframe thead th {\n",
       "        text-align: right;\n",
       "    }\n",
       "</style>\n",
       "<table border=\"1\" class=\"dataframe\">\n",
       "  <thead>\n",
       "    <tr style=\"text-align: right;\">\n",
       "      <th></th>\n",
       "      <th>min_parcelas</th>\n",
       "      <th>max_parcelas</th>\n",
       "    </tr>\n",
       "  </thead>\n",
       "  <tbody>\n",
       "    <tr>\n",
       "      <th>0</th>\n",
       "      <td>0</td>\n",
       "      <td>24</td>\n",
       "    </tr>\n",
       "  </tbody>\n",
       "</table>\n",
       "</div>"
      ],
      "text/plain": [
       "   min_parcelas  max_parcelas\n",
       "0             0            24"
      ]
     },
     "execution_count": 7,
     "metadata": {},
     "output_type": "execute_result"
    }
   ],
   "source": [
    "query = '''\n",
    "select \n",
    "    min(p.payment_installments) as min_parcelas,\n",
    "    max(p.payment_installments) as max_parcelas\n",
    "from tb_payments p;'''\n",
    "\n",
    "query_execute = pd.read_sql_query(query,conn)\n",
    "query_execute"
   ]
  },
  {
   "cell_type": "markdown",
   "metadata": {},
   "source": [
    "## 4.3 Quais são os Top 10 pedidos com os maiores valores de pagamento?"
   ]
  },
  {
   "cell_type": "code",
   "execution_count": 8,
   "metadata": {
    "ExecuteTime": {
     "end_time": "2021-07-12T17:14:56.709538Z",
     "start_time": "2021-07-12T17:14:56.633760Z"
    }
   },
   "outputs": [
    {
     "data": {
      "text/html": [
       "<div>\n",
       "<style scoped>\n",
       "    .dataframe tbody tr th:only-of-type {\n",
       "        vertical-align: middle;\n",
       "    }\n",
       "\n",
       "    .dataframe tbody tr th {\n",
       "        vertical-align: top;\n",
       "    }\n",
       "\n",
       "    .dataframe thead th {\n",
       "        text-align: right;\n",
       "    }\n",
       "</style>\n",
       "<table border=\"1\" class=\"dataframe\">\n",
       "  <thead>\n",
       "    <tr style=\"text-align: right;\">\n",
       "      <th></th>\n",
       "      <th>order_id</th>\n",
       "      <th>payment_value</th>\n",
       "    </tr>\n",
       "  </thead>\n",
       "  <tbody>\n",
       "    <tr>\n",
       "      <th>0</th>\n",
       "      <td>03caa2c082116e1d31e67e9ae3700499</td>\n",
       "      <td>13664.08</td>\n",
       "    </tr>\n",
       "    <tr>\n",
       "      <th>1</th>\n",
       "      <td>736e1922ae60d0d6a89247b851902527</td>\n",
       "      <td>7274.88</td>\n",
       "    </tr>\n",
       "    <tr>\n",
       "      <th>2</th>\n",
       "      <td>0812eb902a67711a1cb742b3cdaa65ae</td>\n",
       "      <td>6929.31</td>\n",
       "    </tr>\n",
       "    <tr>\n",
       "      <th>3</th>\n",
       "      <td>fefacc66af859508bf1a7934eab1e97f</td>\n",
       "      <td>6922.21</td>\n",
       "    </tr>\n",
       "    <tr>\n",
       "      <th>4</th>\n",
       "      <td>f5136e38d1a14a4dbd87dff67da82701</td>\n",
       "      <td>6726.66</td>\n",
       "    </tr>\n",
       "    <tr>\n",
       "      <th>5</th>\n",
       "      <td>2cc9089445046817a7539d90805e6e5a</td>\n",
       "      <td>6081.54</td>\n",
       "    </tr>\n",
       "    <tr>\n",
       "      <th>6</th>\n",
       "      <td>a96610ab360d42a2e5335a3998b4718a</td>\n",
       "      <td>4950.34</td>\n",
       "    </tr>\n",
       "    <tr>\n",
       "      <th>7</th>\n",
       "      <td>b4c4b76c642808cbe472a32b86cddc95</td>\n",
       "      <td>4809.44</td>\n",
       "    </tr>\n",
       "    <tr>\n",
       "      <th>8</th>\n",
       "      <td>199af31afc78c699f0dbf71fb178d4d4</td>\n",
       "      <td>4764.34</td>\n",
       "    </tr>\n",
       "    <tr>\n",
       "      <th>9</th>\n",
       "      <td>8dbc85d1447242f3b127dda390d56e19</td>\n",
       "      <td>4681.78</td>\n",
       "    </tr>\n",
       "  </tbody>\n",
       "</table>\n",
       "</div>"
      ],
      "text/plain": [
       "                           order_id  payment_value\n",
       "0  03caa2c082116e1d31e67e9ae3700499       13664.08\n",
       "1  736e1922ae60d0d6a89247b851902527        7274.88\n",
       "2  0812eb902a67711a1cb742b3cdaa65ae        6929.31\n",
       "3  fefacc66af859508bf1a7934eab1e97f        6922.21\n",
       "4  f5136e38d1a14a4dbd87dff67da82701        6726.66\n",
       "5  2cc9089445046817a7539d90805e6e5a        6081.54\n",
       "6  a96610ab360d42a2e5335a3998b4718a        4950.34\n",
       "7  b4c4b76c642808cbe472a32b86cddc95        4809.44\n",
       "8  199af31afc78c699f0dbf71fb178d4d4        4764.34\n",
       "9  8dbc85d1447242f3b127dda390d56e19        4681.78"
      ]
     },
     "execution_count": 8,
     "metadata": {},
     "output_type": "execute_result"
    }
   ],
   "source": [
    "query = '''\n",
    "select\n",
    "    p.order_id,\n",
    "    p.payment_value \n",
    "from tb_payments p\n",
    "order by p.payment_value DESC\n",
    "limit 10;\n",
    "'''\n",
    "query_execute = pd.read_sql_query(query,conn)\n",
    "query_execute"
   ]
  },
  {
   "cell_type": "markdown",
   "metadata": {},
   "source": [
    "## 4.4 Quais são os últimos 10 pedidos com os menores valores de pagamentos?"
   ]
  },
  {
   "cell_type": "code",
   "execution_count": 9,
   "metadata": {
    "ExecuteTime": {
     "end_time": "2021-07-12T17:14:58.351683Z",
     "start_time": "2021-07-12T17:14:57.235404Z"
    }
   },
   "outputs": [
    {
     "data": {
      "text/html": [
       "<div>\n",
       "<style scoped>\n",
       "    .dataframe tbody tr th:only-of-type {\n",
       "        vertical-align: middle;\n",
       "    }\n",
       "\n",
       "    .dataframe tbody tr th {\n",
       "        vertical-align: top;\n",
       "    }\n",
       "\n",
       "    .dataframe thead th {\n",
       "        text-align: right;\n",
       "    }\n",
       "</style>\n",
       "<table border=\"1\" class=\"dataframe\">\n",
       "  <thead>\n",
       "    <tr style=\"text-align: right;\">\n",
       "      <th></th>\n",
       "      <th>order_id</th>\n",
       "      <th>payment_value</th>\n",
       "    </tr>\n",
       "  </thead>\n",
       "  <tbody>\n",
       "    <tr>\n",
       "      <th>0</th>\n",
       "      <td>285c2e15bebd4ac83635ccc563dc71f4</td>\n",
       "      <td>1.00</td>\n",
       "    </tr>\n",
       "    <tr>\n",
       "      <th>1</th>\n",
       "      <td>d80faf302bbccea1f0b613d440de4d33</td>\n",
       "      <td>1.01</td>\n",
       "    </tr>\n",
       "    <tr>\n",
       "      <th>2</th>\n",
       "      <td>fbd05af8c1751b972fc6e19b1190990e</td>\n",
       "      <td>1.02</td>\n",
       "    </tr>\n",
       "    <tr>\n",
       "      <th>3</th>\n",
       "      <td>065c05543ebdfd79fb629b2b4a6ab904</td>\n",
       "      <td>1.02</td>\n",
       "    </tr>\n",
       "    <tr>\n",
       "      <th>4</th>\n",
       "      <td>285c2e15bebd4ac83635ccc563dc71f4</td>\n",
       "      <td>1.03</td>\n",
       "    </tr>\n",
       "    <tr>\n",
       "      <th>5</th>\n",
       "      <td>ccf804e764ed5650cd8759557269dc13</td>\n",
       "      <td>1.03</td>\n",
       "    </tr>\n",
       "    <tr>\n",
       "      <th>6</th>\n",
       "      <td>1fb40b224a9509697bacc23d3e160e4c</td>\n",
       "      <td>1.03</td>\n",
       "    </tr>\n",
       "    <tr>\n",
       "      <th>7</th>\n",
       "      <td>6d58638e32674bebee793a47ac4cbadc</td>\n",
       "      <td>1.03</td>\n",
       "    </tr>\n",
       "    <tr>\n",
       "      <th>8</th>\n",
       "      <td>8ee8450594de505503ee786c1a401800</td>\n",
       "      <td>1.04</td>\n",
       "    </tr>\n",
       "    <tr>\n",
       "      <th>9</th>\n",
       "      <td>ccf804e764ed5650cd8759557269dc13</td>\n",
       "      <td>1.04</td>\n",
       "    </tr>\n",
       "  </tbody>\n",
       "</table>\n",
       "</div>"
      ],
      "text/plain": [
       "                           order_id  payment_value\n",
       "0  285c2e15bebd4ac83635ccc563dc71f4           1.00\n",
       "1  d80faf302bbccea1f0b613d440de4d33           1.01\n",
       "2  fbd05af8c1751b972fc6e19b1190990e           1.02\n",
       "3  065c05543ebdfd79fb629b2b4a6ab904           1.02\n",
       "4  285c2e15bebd4ac83635ccc563dc71f4           1.03\n",
       "5  ccf804e764ed5650cd8759557269dc13           1.03\n",
       "6  1fb40b224a9509697bacc23d3e160e4c           1.03\n",
       "7  6d58638e32674bebee793a47ac4cbadc           1.03\n",
       "8  8ee8450594de505503ee786c1a401800           1.04\n",
       "9  ccf804e764ed5650cd8759557269dc13           1.04"
      ]
     },
     "execution_count": 9,
     "metadata": {},
     "output_type": "execute_result"
    }
   ],
   "source": [
    "query = '''\n",
    "select \n",
    "    p.order_id,\n",
    "    p.payment_value\n",
    "from tb_orders o inner join tb_payments p ON (p.order_id = o.order_id)\n",
    "where p.payment_value >=1\n",
    "order by p.payment_value ASC\n",
    "limit 10;\n",
    "'''\n",
    "query_execute = pd.read_sql_query(query,conn)\n",
    "query_execute"
   ]
  },
  {
   "cell_type": "markdown",
   "metadata": {},
   "source": [
    "## 4.5 Qual a média do valor de pagamento por tipo?"
   ]
  },
  {
   "cell_type": "code",
   "execution_count": 10,
   "metadata": {
    "ExecuteTime": {
     "end_time": "2021-07-12T17:14:58.526471Z",
     "start_time": "2021-07-12T17:14:58.356006Z"
    }
   },
   "outputs": [
    {
     "data": {
      "text/html": [
       "<div>\n",
       "<style scoped>\n",
       "    .dataframe tbody tr th:only-of-type {\n",
       "        vertical-align: middle;\n",
       "    }\n",
       "\n",
       "    .dataframe tbody tr th {\n",
       "        vertical-align: top;\n",
       "    }\n",
       "\n",
       "    .dataframe thead th {\n",
       "        text-align: right;\n",
       "    }\n",
       "</style>\n",
       "<table border=\"1\" class=\"dataframe\">\n",
       "  <thead>\n",
       "    <tr style=\"text-align: right;\">\n",
       "      <th></th>\n",
       "      <th>payment_type</th>\n",
       "      <th>avg_type_payments</th>\n",
       "    </tr>\n",
       "  </thead>\n",
       "  <tbody>\n",
       "    <tr>\n",
       "      <th>0</th>\n",
       "      <td>debit_card</td>\n",
       "      <td>142.570170</td>\n",
       "    </tr>\n",
       "    <tr>\n",
       "      <th>1</th>\n",
       "      <td>credit_card</td>\n",
       "      <td>163.319021</td>\n",
       "    </tr>\n",
       "    <tr>\n",
       "      <th>2</th>\n",
       "      <td>boleto</td>\n",
       "      <td>145.034435</td>\n",
       "    </tr>\n",
       "    <tr>\n",
       "      <th>3</th>\n",
       "      <td>voucher</td>\n",
       "      <td>65.703354</td>\n",
       "    </tr>\n",
       "    <tr>\n",
       "      <th>4</th>\n",
       "      <td>not_defined</td>\n",
       "      <td>0.000000</td>\n",
       "    </tr>\n",
       "  </tbody>\n",
       "</table>\n",
       "</div>"
      ],
      "text/plain": [
       "  payment_type  avg_type_payments\n",
       "0   debit_card         142.570170\n",
       "1  credit_card         163.319021\n",
       "2       boleto         145.034435\n",
       "3      voucher          65.703354\n",
       "4  not_defined           0.000000"
      ]
     },
     "execution_count": 10,
     "metadata": {},
     "output_type": "execute_result"
    }
   ],
   "source": [
    "query = '''\n",
    "select \n",
    "    p.payment_type,\n",
    "    AVG(p.payment_value) AS avg_type_payments\n",
    "from tb_payments p\n",
    "group by p.payment_type\n",
    "order by p.payment_value DESC;\n",
    "'''\n",
    "\n",
    "query_execute = pd.read_sql_query(query,conn)\n",
    "query_execute"
   ]
  },
  {
   "cell_type": "markdown",
   "metadata": {},
   "source": [
    "## 4.6 Quais os Top 5 clientes com os maiores valores de pagamentos no boleto?"
   ]
  },
  {
   "cell_type": "code",
   "execution_count": 11,
   "metadata": {
    "ExecuteTime": {
     "end_time": "2021-07-12T17:14:59.849888Z",
     "start_time": "2021-07-12T17:14:58.537491Z"
    }
   },
   "outputs": [
    {
     "data": {
      "text/html": [
       "<div>\n",
       "<style scoped>\n",
       "    .dataframe tbody tr th:only-of-type {\n",
       "        vertical-align: middle;\n",
       "    }\n",
       "\n",
       "    .dataframe tbody tr th {\n",
       "        vertical-align: top;\n",
       "    }\n",
       "\n",
       "    .dataframe thead th {\n",
       "        text-align: right;\n",
       "    }\n",
       "</style>\n",
       "<table border=\"1\" class=\"dataframe\">\n",
       "  <thead>\n",
       "    <tr style=\"text-align: right;\">\n",
       "      <th></th>\n",
       "      <th>customer_id</th>\n",
       "      <th>payment_type</th>\n",
       "      <th>payment_value</th>\n",
       "    </tr>\n",
       "  </thead>\n",
       "  <tbody>\n",
       "    <tr>\n",
       "      <th>0</th>\n",
       "      <td>ec5b2ba62e574342386871631fafd3fc</td>\n",
       "      <td>boleto</td>\n",
       "      <td>7274.88</td>\n",
       "    </tr>\n",
       "    <tr>\n",
       "      <th>1</th>\n",
       "      <td>f48d464a0baaea338cb25f816991ab1f</td>\n",
       "      <td>boleto</td>\n",
       "      <td>6922.21</td>\n",
       "    </tr>\n",
       "    <tr>\n",
       "      <th>2</th>\n",
       "      <td>3fd6777bbce08a352fddd04e4a7cc8f6</td>\n",
       "      <td>boleto</td>\n",
       "      <td>6726.66</td>\n",
       "    </tr>\n",
       "    <tr>\n",
       "      <th>3</th>\n",
       "      <td>05455dfa7cd02f13d132aa7a6a9729c6</td>\n",
       "      <td>boleto</td>\n",
       "      <td>6081.54</td>\n",
       "    </tr>\n",
       "    <tr>\n",
       "      <th>4</th>\n",
       "      <td>31e83c01fce824d0ff786fcd48dad009</td>\n",
       "      <td>boleto</td>\n",
       "      <td>3979.55</td>\n",
       "    </tr>\n",
       "  </tbody>\n",
       "</table>\n",
       "</div>"
      ],
      "text/plain": [
       "                        customer_id payment_type  payment_value\n",
       "0  ec5b2ba62e574342386871631fafd3fc       boleto        7274.88\n",
       "1  f48d464a0baaea338cb25f816991ab1f       boleto        6922.21\n",
       "2  3fd6777bbce08a352fddd04e4a7cc8f6       boleto        6726.66\n",
       "3  05455dfa7cd02f13d132aa7a6a9729c6       boleto        6081.54\n",
       "4  31e83c01fce824d0ff786fcd48dad009       boleto        3979.55"
      ]
     },
     "execution_count": 11,
     "metadata": {},
     "output_type": "execute_result"
    }
   ],
   "source": [
    "query = '''\n",
    "select \n",
    "    o.customer_id,\n",
    "    p.payment_type,\n",
    "    p.payment_value\n",
    "from tb_orders o inner join tb_payments p ON (p.order_id = o.order_id)\n",
    "where p.payment_type == 'boleto'\n",
    "group by o.customer_id\n",
    "order by p.payment_value DESC\n",
    "limit 5;\n",
    "'''\n",
    "\n",
    "query_execute = pd.read_sql_query(query,conn)\n",
    "query_execute"
   ]
  },
  {
   "cell_type": "markdown",
   "metadata": {},
   "source": [
    "## 4.7 Quais os Top 5 clientes com os maiores valores de pagamento no cartão de crédito?"
   ]
  },
  {
   "cell_type": "code",
   "execution_count": 12,
   "metadata": {
    "ExecuteTime": {
     "end_time": "2021-07-12T17:15:01.262963Z",
     "start_time": "2021-07-12T17:14:59.865058Z"
    }
   },
   "outputs": [
    {
     "data": {
      "text/html": [
       "<div>\n",
       "<style scoped>\n",
       "    .dataframe tbody tr th:only-of-type {\n",
       "        vertical-align: middle;\n",
       "    }\n",
       "\n",
       "    .dataframe tbody tr th {\n",
       "        vertical-align: top;\n",
       "    }\n",
       "\n",
       "    .dataframe thead th {\n",
       "        text-align: right;\n",
       "    }\n",
       "</style>\n",
       "<table border=\"1\" class=\"dataframe\">\n",
       "  <thead>\n",
       "    <tr style=\"text-align: right;\">\n",
       "      <th></th>\n",
       "      <th>customer_id</th>\n",
       "      <th>payment_type</th>\n",
       "      <th>payment_value</th>\n",
       "    </tr>\n",
       "  </thead>\n",
       "  <tbody>\n",
       "    <tr>\n",
       "      <th>0</th>\n",
       "      <td>1617b1357756262bfa56ab541c47bc16</td>\n",
       "      <td>credit_card</td>\n",
       "      <td>13664.08</td>\n",
       "    </tr>\n",
       "    <tr>\n",
       "      <th>1</th>\n",
       "      <td>c6e2731c5b391845f6800c97401a43a9</td>\n",
       "      <td>credit_card</td>\n",
       "      <td>6929.31</td>\n",
       "    </tr>\n",
       "    <tr>\n",
       "      <th>2</th>\n",
       "      <td>df55c14d1476a9a3467f131269c2477f</td>\n",
       "      <td>credit_card</td>\n",
       "      <td>4950.34</td>\n",
       "    </tr>\n",
       "    <tr>\n",
       "      <th>3</th>\n",
       "      <td>e0a2412720e9ea4f26c1ac985f6a7358</td>\n",
       "      <td>credit_card</td>\n",
       "      <td>4809.44</td>\n",
       "    </tr>\n",
       "    <tr>\n",
       "      <th>4</th>\n",
       "      <td>24bbf5fd2f2e1b359ee7de94defc4a15</td>\n",
       "      <td>credit_card</td>\n",
       "      <td>4764.34</td>\n",
       "    </tr>\n",
       "  </tbody>\n",
       "</table>\n",
       "</div>"
      ],
      "text/plain": [
       "                        customer_id payment_type  payment_value\n",
       "0  1617b1357756262bfa56ab541c47bc16  credit_card       13664.08\n",
       "1  c6e2731c5b391845f6800c97401a43a9  credit_card        6929.31\n",
       "2  df55c14d1476a9a3467f131269c2477f  credit_card        4950.34\n",
       "3  e0a2412720e9ea4f26c1ac985f6a7358  credit_card        4809.44\n",
       "4  24bbf5fd2f2e1b359ee7de94defc4a15  credit_card        4764.34"
      ]
     },
     "execution_count": 12,
     "metadata": {},
     "output_type": "execute_result"
    }
   ],
   "source": [
    "query = '''\n",
    "select \n",
    "    o.customer_id,\n",
    "    p.payment_type,\n",
    "    p.payment_value\n",
    "from tb_orders o inner join tb_payments p ON (p.order_id = o.order_id)\n",
    "where p.payment_type == 'credit_card'\n",
    "group by o.customer_id\n",
    "order by p.payment_value DESC\n",
    "limit 5;\n",
    "'''\n",
    "\n",
    "query_execute = pd.read_sql_query(query,conn)\n",
    "query_execute"
   ]
  },
  {
   "cell_type": "markdown",
   "metadata": {},
   "source": [
    "## 4.8 Quais os top 10 produtos mais caro?"
   ]
  },
  {
   "cell_type": "code",
   "execution_count": 13,
   "metadata": {
    "ExecuteTime": {
     "end_time": "2021-07-12T17:15:02.069877Z",
     "start_time": "2021-07-12T17:15:01.266919Z"
    }
   },
   "outputs": [
    {
     "data": {
      "text/html": [
       "<div>\n",
       "<style scoped>\n",
       "    .dataframe tbody tr th:only-of-type {\n",
       "        vertical-align: middle;\n",
       "    }\n",
       "\n",
       "    .dataframe tbody tr th {\n",
       "        vertical-align: top;\n",
       "    }\n",
       "\n",
       "    .dataframe thead th {\n",
       "        text-align: right;\n",
       "    }\n",
       "</style>\n",
       "<table border=\"1\" class=\"dataframe\">\n",
       "  <thead>\n",
       "    <tr style=\"text-align: right;\">\n",
       "      <th></th>\n",
       "      <th>product_id</th>\n",
       "      <th>product_category_name</th>\n",
       "      <th>price</th>\n",
       "    </tr>\n",
       "  </thead>\n",
       "  <tbody>\n",
       "    <tr>\n",
       "      <th>0</th>\n",
       "      <td>489ae2aa008f021502940f251d4cce7f</td>\n",
       "      <td>utilidades_domesticas</td>\n",
       "      <td>6735.00</td>\n",
       "    </tr>\n",
       "    <tr>\n",
       "      <th>1</th>\n",
       "      <td>69c590f7ffc7bf8db97190b6cb6ed62e</td>\n",
       "      <td>pcs</td>\n",
       "      <td>6729.00</td>\n",
       "    </tr>\n",
       "    <tr>\n",
       "      <th>2</th>\n",
       "      <td>1bdf5e6731585cf01aa8169c7028d6ad</td>\n",
       "      <td>artes</td>\n",
       "      <td>6499.00</td>\n",
       "    </tr>\n",
       "    <tr>\n",
       "      <th>3</th>\n",
       "      <td>a6492cc69376c469ab6f61d8f44de961</td>\n",
       "      <td>eletroportateis</td>\n",
       "      <td>4799.00</td>\n",
       "    </tr>\n",
       "    <tr>\n",
       "      <th>4</th>\n",
       "      <td>c3ed642d592594bb648ff4a04cee2747</td>\n",
       "      <td>eletroportateis</td>\n",
       "      <td>4690.00</td>\n",
       "    </tr>\n",
       "    <tr>\n",
       "      <th>5</th>\n",
       "      <td>259037a6a41845e455183f89c5035f18</td>\n",
       "      <td>pcs</td>\n",
       "      <td>4590.00</td>\n",
       "    </tr>\n",
       "    <tr>\n",
       "      <th>6</th>\n",
       "      <td>a1beef8f3992dbd4cd8726796aa69c53</td>\n",
       "      <td>instrumentos_musicais</td>\n",
       "      <td>4399.87</td>\n",
       "    </tr>\n",
       "    <tr>\n",
       "      <th>7</th>\n",
       "      <td>6cdf8fc1d741c76586d8b6b15e9eef30</td>\n",
       "      <td>consoles_games</td>\n",
       "      <td>4099.99</td>\n",
       "    </tr>\n",
       "    <tr>\n",
       "      <th>8</th>\n",
       "      <td>6902c1962dd19d540807d0ab8fade5c6</td>\n",
       "      <td>relogios_presentes</td>\n",
       "      <td>3999.90</td>\n",
       "    </tr>\n",
       "    <tr>\n",
       "      <th>9</th>\n",
       "      <td>4ca7b91a31637bd24fb8e559d5e015e4</td>\n",
       "      <td>eletroportateis</td>\n",
       "      <td>3999.00</td>\n",
       "    </tr>\n",
       "  </tbody>\n",
       "</table>\n",
       "</div>"
      ],
      "text/plain": [
       "                         product_id  product_category_name    price\n",
       "0  489ae2aa008f021502940f251d4cce7f  utilidades_domesticas  6735.00\n",
       "1  69c590f7ffc7bf8db97190b6cb6ed62e                    pcs  6729.00\n",
       "2  1bdf5e6731585cf01aa8169c7028d6ad                  artes  6499.00\n",
       "3  a6492cc69376c469ab6f61d8f44de961        eletroportateis  4799.00\n",
       "4  c3ed642d592594bb648ff4a04cee2747        eletroportateis  4690.00\n",
       "5  259037a6a41845e455183f89c5035f18                    pcs  4590.00\n",
       "6  a1beef8f3992dbd4cd8726796aa69c53  instrumentos_musicais  4399.87\n",
       "7  6cdf8fc1d741c76586d8b6b15e9eef30         consoles_games  4099.99\n",
       "8  6902c1962dd19d540807d0ab8fade5c6     relogios_presentes  3999.90\n",
       "9  4ca7b91a31637bd24fb8e559d5e015e4        eletroportateis  3999.00"
      ]
     },
     "execution_count": 13,
     "metadata": {},
     "output_type": "execute_result"
    }
   ],
   "source": [
    "#Usando o group by\n",
    "query = ''' \n",
    "select \n",
    "    po.product_id,\n",
    "    po.product_category_name,\n",
    "    i.price\n",
    "from tb_items i inner join tb_products po ON (po.product_id = i.product_id) \n",
    "group by po.product_id\n",
    "order by i.price DESC\n",
    "limit 10;'''\n",
    "\n",
    "query_execute = pd.read_sql_query(query,conn)\n",
    "query_execute"
   ]
  },
  {
   "cell_type": "code",
   "execution_count": 14,
   "metadata": {
    "ExecuteTime": {
     "end_time": "2021-07-12T17:15:02.914275Z",
     "start_time": "2021-07-12T17:15:02.081137Z"
    }
   },
   "outputs": [
    {
     "data": {
      "text/html": [
       "<div>\n",
       "<style scoped>\n",
       "    .dataframe tbody tr th:only-of-type {\n",
       "        vertical-align: middle;\n",
       "    }\n",
       "\n",
       "    .dataframe tbody tr th {\n",
       "        vertical-align: top;\n",
       "    }\n",
       "\n",
       "    .dataframe thead th {\n",
       "        text-align: right;\n",
       "    }\n",
       "</style>\n",
       "<table border=\"1\" class=\"dataframe\">\n",
       "  <thead>\n",
       "    <tr style=\"text-align: right;\">\n",
       "      <th></th>\n",
       "      <th>product_id</th>\n",
       "      <th>product_category_name</th>\n",
       "      <th>price</th>\n",
       "    </tr>\n",
       "  </thead>\n",
       "  <tbody>\n",
       "    <tr>\n",
       "      <th>0</th>\n",
       "      <td>489ae2aa008f021502940f251d4cce7f</td>\n",
       "      <td>utilidades_domesticas</td>\n",
       "      <td>6735.00</td>\n",
       "    </tr>\n",
       "    <tr>\n",
       "      <th>1</th>\n",
       "      <td>69c590f7ffc7bf8db97190b6cb6ed62e</td>\n",
       "      <td>pcs</td>\n",
       "      <td>6729.00</td>\n",
       "    </tr>\n",
       "    <tr>\n",
       "      <th>2</th>\n",
       "      <td>1bdf5e6731585cf01aa8169c7028d6ad</td>\n",
       "      <td>artes</td>\n",
       "      <td>6499.00</td>\n",
       "    </tr>\n",
       "    <tr>\n",
       "      <th>3</th>\n",
       "      <td>a6492cc69376c469ab6f61d8f44de961</td>\n",
       "      <td>eletroportateis</td>\n",
       "      <td>4799.00</td>\n",
       "    </tr>\n",
       "    <tr>\n",
       "      <th>4</th>\n",
       "      <td>c3ed642d592594bb648ff4a04cee2747</td>\n",
       "      <td>eletroportateis</td>\n",
       "      <td>4690.00</td>\n",
       "    </tr>\n",
       "    <tr>\n",
       "      <th>5</th>\n",
       "      <td>259037a6a41845e455183f89c5035f18</td>\n",
       "      <td>pcs</td>\n",
       "      <td>4590.00</td>\n",
       "    </tr>\n",
       "    <tr>\n",
       "      <th>6</th>\n",
       "      <td>a1beef8f3992dbd4cd8726796aa69c53</td>\n",
       "      <td>instrumentos_musicais</td>\n",
       "      <td>4399.87</td>\n",
       "    </tr>\n",
       "    <tr>\n",
       "      <th>7</th>\n",
       "      <td>6cdf8fc1d741c76586d8b6b15e9eef30</td>\n",
       "      <td>consoles_games</td>\n",
       "      <td>4099.99</td>\n",
       "    </tr>\n",
       "    <tr>\n",
       "      <th>8</th>\n",
       "      <td>dd113cb02b2af9c8e5787e8f1f0722f6</td>\n",
       "      <td>esporte_lazer</td>\n",
       "      <td>4059.00</td>\n",
       "    </tr>\n",
       "    <tr>\n",
       "      <th>9</th>\n",
       "      <td>6902c1962dd19d540807d0ab8fade5c6</td>\n",
       "      <td>relogios_presentes</td>\n",
       "      <td>3999.90</td>\n",
       "    </tr>\n",
       "  </tbody>\n",
       "</table>\n",
       "</div>"
      ],
      "text/plain": [
       "                         product_id  product_category_name    price\n",
       "0  489ae2aa008f021502940f251d4cce7f  utilidades_domesticas  6735.00\n",
       "1  69c590f7ffc7bf8db97190b6cb6ed62e                    pcs  6729.00\n",
       "2  1bdf5e6731585cf01aa8169c7028d6ad                  artes  6499.00\n",
       "3  a6492cc69376c469ab6f61d8f44de961        eletroportateis  4799.00\n",
       "4  c3ed642d592594bb648ff4a04cee2747        eletroportateis  4690.00\n",
       "5  259037a6a41845e455183f89c5035f18                    pcs  4590.00\n",
       "6  a1beef8f3992dbd4cd8726796aa69c53  instrumentos_musicais  4399.87\n",
       "7  6cdf8fc1d741c76586d8b6b15e9eef30         consoles_games  4099.99\n",
       "8  dd113cb02b2af9c8e5787e8f1f0722f6          esporte_lazer  4059.00\n",
       "9  6902c1962dd19d540807d0ab8fade5c6     relogios_presentes  3999.90"
      ]
     },
     "execution_count": 14,
     "metadata": {},
     "output_type": "execute_result"
    }
   ],
   "source": [
    "#Usando o Distinct\n",
    "\n",
    "query = '''\n",
    "\n",
    "select \n",
    "    DISTINCT(po.product_id),\n",
    "    po.product_category_name,\n",
    "    i.price\n",
    "from tb_items i inner join tb_products po ON (po.product_id = i.product_id) \n",
    "order by i.price DESC\n",
    "limit 10;\n",
    "'''\n",
    "query_execute = pd.read_sql_query(query,conn)\n",
    "query_execute"
   ]
  },
  {
   "cell_type": "markdown",
   "metadata": {},
   "source": [
    "## 4.9 Quais os top 10 produtos mais baratos?"
   ]
  },
  {
   "cell_type": "code",
   "execution_count": 15,
   "metadata": {
    "ExecuteTime": {
     "end_time": "2021-07-12T17:15:03.494488Z",
     "start_time": "2021-07-12T17:15:02.917225Z"
    }
   },
   "outputs": [
    {
     "data": {
      "text/html": [
       "<div>\n",
       "<style scoped>\n",
       "    .dataframe tbody tr th:only-of-type {\n",
       "        vertical-align: middle;\n",
       "    }\n",
       "\n",
       "    .dataframe tbody tr th {\n",
       "        vertical-align: top;\n",
       "    }\n",
       "\n",
       "    .dataframe thead th {\n",
       "        text-align: right;\n",
       "    }\n",
       "</style>\n",
       "<table border=\"1\" class=\"dataframe\">\n",
       "  <thead>\n",
       "    <tr style=\"text-align: right;\">\n",
       "      <th></th>\n",
       "      <th>product_id</th>\n",
       "      <th>product_category_name</th>\n",
       "      <th>price</th>\n",
       "    </tr>\n",
       "  </thead>\n",
       "  <tbody>\n",
       "    <tr>\n",
       "      <th>0</th>\n",
       "      <td>8a3254bee785a526d548a81a9bc3c9be</td>\n",
       "      <td>construcao_ferramentas_construcao</td>\n",
       "      <td>0.85</td>\n",
       "    </tr>\n",
       "    <tr>\n",
       "      <th>1</th>\n",
       "      <td>05b515fdc76e888aada3c6d66c201dff</td>\n",
       "      <td>beleza_saude</td>\n",
       "      <td>1.20</td>\n",
       "    </tr>\n",
       "    <tr>\n",
       "      <th>2</th>\n",
       "      <td>270516a3f41dc035aa87d220228f844c</td>\n",
       "      <td>beleza_saude</td>\n",
       "      <td>1.20</td>\n",
       "    </tr>\n",
       "    <tr>\n",
       "      <th>3</th>\n",
       "      <td>46fce52cef5caa7cc225a5531c946c8b</td>\n",
       "      <td>beleza_saude</td>\n",
       "      <td>2.20</td>\n",
       "    </tr>\n",
       "    <tr>\n",
       "      <th>4</th>\n",
       "      <td>310dc32058903b6416c71faff132df9e</td>\n",
       "      <td>papelaria</td>\n",
       "      <td>2.29</td>\n",
       "    </tr>\n",
       "    <tr>\n",
       "      <th>5</th>\n",
       "      <td>680cc8535be7cc69544238c1d6a83fe8</td>\n",
       "      <td>pet_shop</td>\n",
       "      <td>2.90</td>\n",
       "    </tr>\n",
       "    <tr>\n",
       "      <th>6</th>\n",
       "      <td>2e8316b31db34314f393806fd7b6e185</td>\n",
       "      <td>papelaria</td>\n",
       "      <td>2.99</td>\n",
       "    </tr>\n",
       "    <tr>\n",
       "      <th>7</th>\n",
       "      <td>44d53f1240d6332232e4393c06500475</td>\n",
       "      <td>None</td>\n",
       "      <td>3.00</td>\n",
       "    </tr>\n",
       "    <tr>\n",
       "      <th>8</th>\n",
       "      <td>29781581fb82fe2389560a3a5331d0ee</td>\n",
       "      <td>utilidades_domesticas</td>\n",
       "      <td>3.06</td>\n",
       "    </tr>\n",
       "    <tr>\n",
       "      <th>9</th>\n",
       "      <td>1716ea399ed8ee62ba811e6f55180f45</td>\n",
       "      <td>automotivo</td>\n",
       "      <td>3.49</td>\n",
       "    </tr>\n",
       "  </tbody>\n",
       "</table>\n",
       "</div>"
      ],
      "text/plain": [
       "                         product_id              product_category_name  price\n",
       "0  8a3254bee785a526d548a81a9bc3c9be  construcao_ferramentas_construcao   0.85\n",
       "1  05b515fdc76e888aada3c6d66c201dff                       beleza_saude   1.20\n",
       "2  270516a3f41dc035aa87d220228f844c                       beleza_saude   1.20\n",
       "3  46fce52cef5caa7cc225a5531c946c8b                       beleza_saude   2.20\n",
       "4  310dc32058903b6416c71faff132df9e                          papelaria   2.29\n",
       "5  680cc8535be7cc69544238c1d6a83fe8                           pet_shop   2.90\n",
       "6  2e8316b31db34314f393806fd7b6e185                          papelaria   2.99\n",
       "7  44d53f1240d6332232e4393c06500475                               None   3.00\n",
       "8  29781581fb82fe2389560a3a5331d0ee              utilidades_domesticas   3.06\n",
       "9  1716ea399ed8ee62ba811e6f55180f45                         automotivo   3.49"
      ]
     },
     "execution_count": 15,
     "metadata": {},
     "output_type": "execute_result"
    }
   ],
   "source": [
    "query = '''\n",
    "select \n",
    "    po.product_id,\n",
    "    po.product_category_name,\n",
    "    i.price\n",
    "from tb_items i inner join tb_products po ON (po.product_id = i.product_id)\n",
    "group by po.product_id\n",
    "order by i.price ASC\n",
    "limit 10;\n",
    "'''\n",
    "query_execute = pd.read_sql_query(query,conn)\n",
    "query_execute"
   ]
  },
  {
   "cell_type": "markdown",
   "metadata": {},
   "source": [
    "## 4.10 Quais as Top 10 categorias mais compradas? "
   ]
  },
  {
   "cell_type": "code",
   "execution_count": 16,
   "metadata": {
    "ExecuteTime": {
     "end_time": "2021-07-12T17:15:05.022006Z",
     "start_time": "2021-07-12T17:15:03.501264Z"
    }
   },
   "outputs": [
    {
     "data": {
      "text/html": [
       "<div>\n",
       "<style scoped>\n",
       "    .dataframe tbody tr th:only-of-type {\n",
       "        vertical-align: middle;\n",
       "    }\n",
       "\n",
       "    .dataframe tbody tr th {\n",
       "        vertical-align: top;\n",
       "    }\n",
       "\n",
       "    .dataframe thead th {\n",
       "        text-align: right;\n",
       "    }\n",
       "</style>\n",
       "<table border=\"1\" class=\"dataframe\">\n",
       "  <thead>\n",
       "    <tr style=\"text-align: right;\">\n",
       "      <th></th>\n",
       "      <th>product_category_name</th>\n",
       "      <th>qt_category</th>\n",
       "    </tr>\n",
       "  </thead>\n",
       "  <tbody>\n",
       "    <tr>\n",
       "      <th>0</th>\n",
       "      <td>cama_mesa_banho</td>\n",
       "      <td>11115</td>\n",
       "    </tr>\n",
       "    <tr>\n",
       "      <th>1</th>\n",
       "      <td>beleza_saude</td>\n",
       "      <td>9670</td>\n",
       "    </tr>\n",
       "    <tr>\n",
       "      <th>2</th>\n",
       "      <td>esporte_lazer</td>\n",
       "      <td>8641</td>\n",
       "    </tr>\n",
       "    <tr>\n",
       "      <th>3</th>\n",
       "      <td>moveis_decoracao</td>\n",
       "      <td>8334</td>\n",
       "    </tr>\n",
       "    <tr>\n",
       "      <th>4</th>\n",
       "      <td>informatica_acessorios</td>\n",
       "      <td>7827</td>\n",
       "    </tr>\n",
       "    <tr>\n",
       "      <th>5</th>\n",
       "      <td>utilidades_domesticas</td>\n",
       "      <td>6964</td>\n",
       "    </tr>\n",
       "    <tr>\n",
       "      <th>6</th>\n",
       "      <td>relogios_presentes</td>\n",
       "      <td>5991</td>\n",
       "    </tr>\n",
       "    <tr>\n",
       "      <th>7</th>\n",
       "      <td>telefonia</td>\n",
       "      <td>4545</td>\n",
       "    </tr>\n",
       "    <tr>\n",
       "      <th>8</th>\n",
       "      <td>ferramentas_jardim</td>\n",
       "      <td>4347</td>\n",
       "    </tr>\n",
       "    <tr>\n",
       "      <th>9</th>\n",
       "      <td>automotivo</td>\n",
       "      <td>4235</td>\n",
       "    </tr>\n",
       "  </tbody>\n",
       "</table>\n",
       "</div>"
      ],
      "text/plain": [
       "    product_category_name  qt_category\n",
       "0         cama_mesa_banho        11115\n",
       "1            beleza_saude         9670\n",
       "2           esporte_lazer         8641\n",
       "3        moveis_decoracao         8334\n",
       "4  informatica_acessorios         7827\n",
       "5   utilidades_domesticas         6964\n",
       "6      relogios_presentes         5991\n",
       "7               telefonia         4545\n",
       "8      ferramentas_jardim         4347\n",
       "9              automotivo         4235"
      ]
     },
     "execution_count": 16,
     "metadata": {},
     "output_type": "execute_result"
    }
   ],
   "source": [
    "query = '''\n",
    "select \n",
    "    po.product_category_name,\n",
    "    COUNT(o.order_id) AS qt_category\n",
    "from tb_items i inner join tb_products po ON (po.product_id = i.product_id) \n",
    "inner join tb_orders o ON (o.order_id = i.order_id)\n",
    "where po.product_category_name != 'NULL'\n",
    "group by po.product_category_name\n",
    "order by qt_category DESC\n",
    "limit 10;\n",
    "\n",
    "'''\n",
    "\n",
    "query_execute = pd.read_sql_query(query,conn)\n",
    "query_execute"
   ]
  },
  {
   "cell_type": "markdown",
   "metadata": {},
   "source": [
    "## 4.11 Quais são os Top 5 produtos com o maior número de review?"
   ]
  },
  {
   "cell_type": "code",
   "execution_count": 17,
   "metadata": {
    "ExecuteTime": {
     "end_time": "2021-07-12T17:15:07.804613Z",
     "start_time": "2021-07-12T17:15:05.024921Z"
    }
   },
   "outputs": [
    {
     "data": {
      "text/html": [
       "<div>\n",
       "<style scoped>\n",
       "    .dataframe tbody tr th:only-of-type {\n",
       "        vertical-align: middle;\n",
       "    }\n",
       "\n",
       "    .dataframe tbody tr th {\n",
       "        vertical-align: top;\n",
       "    }\n",
       "\n",
       "    .dataframe thead th {\n",
       "        text-align: right;\n",
       "    }\n",
       "</style>\n",
       "<table border=\"1\" class=\"dataframe\">\n",
       "  <thead>\n",
       "    <tr style=\"text-align: right;\">\n",
       "      <th></th>\n",
       "      <th>product_id</th>\n",
       "      <th>review_sum</th>\n",
       "    </tr>\n",
       "  </thead>\n",
       "  <tbody>\n",
       "    <tr>\n",
       "      <th>0</th>\n",
       "      <td>aca2eb7d00ea1a7b8ebd4e68314663af</td>\n",
       "      <td>2112</td>\n",
       "    </tr>\n",
       "    <tr>\n",
       "      <th>1</th>\n",
       "      <td>422879e10f46682990de24d770e7f83d</td>\n",
       "      <td>1920</td>\n",
       "    </tr>\n",
       "    <tr>\n",
       "      <th>2</th>\n",
       "      <td>99a4788cb24856965c36a24e339b6058</td>\n",
       "      <td>1896</td>\n",
       "    </tr>\n",
       "    <tr>\n",
       "      <th>3</th>\n",
       "      <td>389d119b48cf3043d311335e499d9c6b</td>\n",
       "      <td>1612</td>\n",
       "    </tr>\n",
       "    <tr>\n",
       "      <th>4</th>\n",
       "      <td>368c6c730842d78016ad823897a372db</td>\n",
       "      <td>1531</td>\n",
       "    </tr>\n",
       "    <tr>\n",
       "      <th>5</th>\n",
       "      <td>53759a2ecddad2bb87a079a1f1519f73</td>\n",
       "      <td>1448</td>\n",
       "    </tr>\n",
       "    <tr>\n",
       "      <th>6</th>\n",
       "      <td>d1c427060a0f73f6b889a5c7c61f2ac4</td>\n",
       "      <td>1432</td>\n",
       "    </tr>\n",
       "    <tr>\n",
       "      <th>7</th>\n",
       "      <td>53b36df67ebb7c41585e8d54d6772e08</td>\n",
       "      <td>1348</td>\n",
       "    </tr>\n",
       "    <tr>\n",
       "      <th>8</th>\n",
       "      <td>154e7e31ebfa092203795c972e5804a6</td>\n",
       "      <td>1264</td>\n",
       "    </tr>\n",
       "    <tr>\n",
       "      <th>9</th>\n",
       "      <td>3dd2a17168ec895c781a9191c1e95ad7</td>\n",
       "      <td>1147</td>\n",
       "    </tr>\n",
       "  </tbody>\n",
       "</table>\n",
       "</div>"
      ],
      "text/plain": [
       "                         product_id  review_sum\n",
       "0  aca2eb7d00ea1a7b8ebd4e68314663af        2112\n",
       "1  422879e10f46682990de24d770e7f83d        1920\n",
       "2  99a4788cb24856965c36a24e339b6058        1896\n",
       "3  389d119b48cf3043d311335e499d9c6b        1612\n",
       "4  368c6c730842d78016ad823897a372db        1531\n",
       "5  53759a2ecddad2bb87a079a1f1519f73        1448\n",
       "6  d1c427060a0f73f6b889a5c7c61f2ac4        1432\n",
       "7  53b36df67ebb7c41585e8d54d6772e08        1348\n",
       "8  154e7e31ebfa092203795c972e5804a6        1264\n",
       "9  3dd2a17168ec895c781a9191c1e95ad7        1147"
      ]
     },
     "execution_count": 17,
     "metadata": {},
     "output_type": "execute_result"
    }
   ],
   "source": [
    "query = '''\n",
    "WITH products_total AS (\n",
    "    select \n",
    "        product_id\n",
    "    from tb_products po\n",
    "\n",
    "), item_total AS(\n",
    "    select \n",
    "        order_id,\n",
    "        product_id\n",
    "    from tb_items i\n",
    "    \n",
    "), ordem_total AS(\n",
    "    select \n",
    "        order_id\n",
    "    from tb_orders o\n",
    "\n",
    "),review_total AS(\n",
    "    select *\n",
    "    from tb_reviews r\n",
    ")\n",
    "select \n",
    "    pt.product_id,\n",
    "    SUM(rt.review_score) AS review_sum\n",
    "from products_total pt inner join item_total it ON (it.product_id = pt.product_id) \n",
    "                       inner join ordem_total ot ON (ot.order_id = it.order_id)\n",
    "                       inner join review_total rt ON (rt.order_id = ot.order_id)\n",
    "group by pt.product_id \n",
    "order by review_sum DESC\n",
    "limit 10;\n",
    "'''\n",
    "query_execute = pd.read_sql_query(query,conn)\n",
    "query_execute"
   ]
  },
  {
   "cell_type": "markdown",
   "metadata": {},
   "source": [
    "## 4.12 Quais são os Top 10 produtos sem nenhum review?"
   ]
  },
  {
   "cell_type": "code",
   "execution_count": 18,
   "metadata": {
    "ExecuteTime": {
     "end_time": "2021-07-12T17:15:10.577172Z",
     "start_time": "2021-07-12T17:15:07.809126Z"
    }
   },
   "outputs": [
    {
     "data": {
      "text/html": [
       "<div>\n",
       "<style scoped>\n",
       "    .dataframe tbody tr th:only-of-type {\n",
       "        vertical-align: middle;\n",
       "    }\n",
       "\n",
       "    .dataframe tbody tr th {\n",
       "        vertical-align: top;\n",
       "    }\n",
       "\n",
       "    .dataframe thead th {\n",
       "        text-align: right;\n",
       "    }\n",
       "</style>\n",
       "<table border=\"1\" class=\"dataframe\">\n",
       "  <thead>\n",
       "    <tr style=\"text-align: right;\">\n",
       "      <th></th>\n",
       "      <th>product_id</th>\n",
       "      <th>review_sum</th>\n",
       "    </tr>\n",
       "  </thead>\n",
       "  <tbody>\n",
       "    <tr>\n",
       "      <th>0</th>\n",
       "      <td>0009406fd7479715e4bef61dd91f2462</td>\n",
       "      <td>1</td>\n",
       "    </tr>\n",
       "    <tr>\n",
       "      <th>1</th>\n",
       "      <td>0011c512eb256aa0dbbb544d8dffcf6e</td>\n",
       "      <td>1</td>\n",
       "    </tr>\n",
       "    <tr>\n",
       "      <th>2</th>\n",
       "      <td>002d4ea7c04739c130bb74d7e7cd1694</td>\n",
       "      <td>1</td>\n",
       "    </tr>\n",
       "    <tr>\n",
       "      <th>3</th>\n",
       "      <td>0043c62d00db47eff6a6bc4cf6bfaeda</td>\n",
       "      <td>1</td>\n",
       "    </tr>\n",
       "    <tr>\n",
       "      <th>4</th>\n",
       "      <td>0043d1a25ef08fb6f41b8fa6f91742ab</td>\n",
       "      <td>1</td>\n",
       "    </tr>\n",
       "    <tr>\n",
       "      <th>5</th>\n",
       "      <td>0060b415594c5e1200324ef1a18493c4</td>\n",
       "      <td>1</td>\n",
       "    </tr>\n",
       "    <tr>\n",
       "      <th>6</th>\n",
       "      <td>00cf06147ed4880ec5fbba2adbb20e1d</td>\n",
       "      <td>1</td>\n",
       "    </tr>\n",
       "    <tr>\n",
       "      <th>7</th>\n",
       "      <td>00e62bcf9337ca4c5d5b4c5c8188f8d2</td>\n",
       "      <td>1</td>\n",
       "    </tr>\n",
       "    <tr>\n",
       "      <th>8</th>\n",
       "      <td>00efb9a8ce0cf3b2f37892ab003edc10</td>\n",
       "      <td>1</td>\n",
       "    </tr>\n",
       "    <tr>\n",
       "      <th>9</th>\n",
       "      <td>0103863bf3441460142ec23c74388e4c</td>\n",
       "      <td>1</td>\n",
       "    </tr>\n",
       "  </tbody>\n",
       "</table>\n",
       "</div>"
      ],
      "text/plain": [
       "                         product_id  review_sum\n",
       "0  0009406fd7479715e4bef61dd91f2462           1\n",
       "1  0011c512eb256aa0dbbb544d8dffcf6e           1\n",
       "2  002d4ea7c04739c130bb74d7e7cd1694           1\n",
       "3  0043c62d00db47eff6a6bc4cf6bfaeda           1\n",
       "4  0043d1a25ef08fb6f41b8fa6f91742ab           1\n",
       "5  0060b415594c5e1200324ef1a18493c4           1\n",
       "6  00cf06147ed4880ec5fbba2adbb20e1d           1\n",
       "7  00e62bcf9337ca4c5d5b4c5c8188f8d2           1\n",
       "8  00efb9a8ce0cf3b2f37892ab003edc10           1\n",
       "9  0103863bf3441460142ec23c74388e4c           1"
      ]
     },
     "execution_count": 18,
     "metadata": {},
     "output_type": "execute_result"
    }
   ],
   "source": [
    "query = '''\n",
    "WITH products_total AS (\n",
    "    select \n",
    "        po.product_id\n",
    "    from tb_products po\n",
    "\n",
    "), item_total AS(\n",
    "    select \n",
    "        i.order_id,\n",
    "        i.product_id\n",
    "    from tb_items i\n",
    "        \n",
    "), ordem_total AS(\n",
    "    select \n",
    "        o.order_id\n",
    "    from tb_orders o\n",
    "\n",
    "),review_total AS(\n",
    "    select *\n",
    "    from tb_reviews r\n",
    ")\n",
    "select \n",
    "    pt.product_id,\n",
    "    SUM(rt.review_score) AS review_sum\n",
    "from products_total pt inner join item_total it ON (it.product_id = pt.product_id) \n",
    "                       inner join ordem_total ot ON (ot.order_id = it.order_id)\n",
    "                       inner join review_total rt ON (rt.order_id = ot.order_id)\n",
    "group by pt.product_id \n",
    "order by review_sum \n",
    "limit 10;\n",
    "'''\n",
    "query_execute = pd.read_sql_query(query,conn)\n",
    "query_execute"
   ]
  },
  {
   "cell_type": "markdown",
   "metadata": {},
   "source": [
    "## 4.13 Quais são os Top 10 clientes com a maior quantidade de pedidos?"
   ]
  },
  {
   "cell_type": "code",
   "execution_count": 19,
   "metadata": {
    "ExecuteTime": {
     "end_time": "2021-07-12T17:15:11.209368Z",
     "start_time": "2021-07-12T17:15:10.580991Z"
    }
   },
   "outputs": [
    {
     "data": {
      "text/html": [
       "<div>\n",
       "<style scoped>\n",
       "    .dataframe tbody tr th:only-of-type {\n",
       "        vertical-align: middle;\n",
       "    }\n",
       "\n",
       "    .dataframe tbody tr th {\n",
       "        vertical-align: top;\n",
       "    }\n",
       "\n",
       "    .dataframe thead th {\n",
       "        text-align: right;\n",
       "    }\n",
       "</style>\n",
       "<table border=\"1\" class=\"dataframe\">\n",
       "  <thead>\n",
       "    <tr style=\"text-align: right;\">\n",
       "      <th></th>\n",
       "      <th>customer_id</th>\n",
       "      <th>qtd_pedidos</th>\n",
       "    </tr>\n",
       "  </thead>\n",
       "  <tbody>\n",
       "    <tr>\n",
       "      <th>0</th>\n",
       "      <td>fc3d1daec319d62d49bfb5e1f83123e9</td>\n",
       "      <td>21</td>\n",
       "    </tr>\n",
       "    <tr>\n",
       "      <th>1</th>\n",
       "      <td>be1b70680b9f9694d8c70f41fa3dc92b</td>\n",
       "      <td>20</td>\n",
       "    </tr>\n",
       "    <tr>\n",
       "      <th>2</th>\n",
       "      <td>bd5d39761aa56689a265d95d8d32b8be</td>\n",
       "      <td>20</td>\n",
       "    </tr>\n",
       "    <tr>\n",
       "      <th>3</th>\n",
       "      <td>adb32467ecc74b53576d9d13a5a55891</td>\n",
       "      <td>15</td>\n",
       "    </tr>\n",
       "    <tr>\n",
       "      <th>4</th>\n",
       "      <td>10de381f8a8d23fff822753305f71cae</td>\n",
       "      <td>15</td>\n",
       "    </tr>\n",
       "    <tr>\n",
       "      <th>5</th>\n",
       "      <td>d5f2b3f597c7ccafbb5cac0bcc3d6024</td>\n",
       "      <td>14</td>\n",
       "    </tr>\n",
       "    <tr>\n",
       "      <th>6</th>\n",
       "      <td>a7693fba2ff9583c78751f2b66ecab9d</td>\n",
       "      <td>14</td>\n",
       "    </tr>\n",
       "    <tr>\n",
       "      <th>7</th>\n",
       "      <td>7d321bd4e8ba1caf74c4c1aabd9ae524</td>\n",
       "      <td>13</td>\n",
       "    </tr>\n",
       "    <tr>\n",
       "      <th>8</th>\n",
       "      <td>daf15f1b940cc6a72ba558f093dc00dd</td>\n",
       "      <td>12</td>\n",
       "    </tr>\n",
       "    <tr>\n",
       "      <th>9</th>\n",
       "      <td>9eb3d566e87289dcb0acf28e1407c839</td>\n",
       "      <td>12</td>\n",
       "    </tr>\n",
       "  </tbody>\n",
       "</table>\n",
       "</div>"
      ],
      "text/plain": [
       "                        customer_id  qtd_pedidos\n",
       "0  fc3d1daec319d62d49bfb5e1f83123e9           21\n",
       "1  be1b70680b9f9694d8c70f41fa3dc92b           20\n",
       "2  bd5d39761aa56689a265d95d8d32b8be           20\n",
       "3  adb32467ecc74b53576d9d13a5a55891           15\n",
       "4  10de381f8a8d23fff822753305f71cae           15\n",
       "5  d5f2b3f597c7ccafbb5cac0bcc3d6024           14\n",
       "6  a7693fba2ff9583c78751f2b66ecab9d           14\n",
       "7  7d321bd4e8ba1caf74c4c1aabd9ae524           13\n",
       "8  daf15f1b940cc6a72ba558f093dc00dd           12\n",
       "9  9eb3d566e87289dcb0acf28e1407c839           12"
      ]
     },
     "execution_count": 19,
     "metadata": {},
     "output_type": "execute_result"
    }
   ],
   "source": [
    "query = '''select \n",
    "    o.customer_id,\n",
    "    COUNT(i.order_item_id) AS qtd_pedidos\n",
    "from tb_orders o inner join tb_items i ON (i.order_id = o.order_id)\n",
    "group by o.customer_id \n",
    "order by qtd_pedidos DESC\n",
    "limit 10;\n",
    "'''\n",
    "query_execute = pd.read_sql_query(query,conn)\n",
    "query_execute"
   ]
  },
  {
   "cell_type": "markdown",
   "metadata": {},
   "source": [
    "## 4.14 Quais são os 10 clientes com a menor quantidade de pedidos?"
   ]
  },
  {
   "cell_type": "code",
   "execution_count": 20,
   "metadata": {
    "ExecuteTime": {
     "end_time": "2021-07-12T17:15:11.781200Z",
     "start_time": "2021-07-12T17:15:11.213090Z"
    }
   },
   "outputs": [
    {
     "data": {
      "text/html": [
       "<div>\n",
       "<style scoped>\n",
       "    .dataframe tbody tr th:only-of-type {\n",
       "        vertical-align: middle;\n",
       "    }\n",
       "\n",
       "    .dataframe tbody tr th {\n",
       "        vertical-align: top;\n",
       "    }\n",
       "\n",
       "    .dataframe thead th {\n",
       "        text-align: right;\n",
       "    }\n",
       "</style>\n",
       "<table border=\"1\" class=\"dataframe\">\n",
       "  <thead>\n",
       "    <tr style=\"text-align: right;\">\n",
       "      <th></th>\n",
       "      <th>customer_id</th>\n",
       "      <th>qtd_pedidos</th>\n",
       "    </tr>\n",
       "  </thead>\n",
       "  <tbody>\n",
       "    <tr>\n",
       "      <th>0</th>\n",
       "      <td>00012a2ce6f8dcda20d059ce98491703</td>\n",
       "      <td>1</td>\n",
       "    </tr>\n",
       "    <tr>\n",
       "      <th>1</th>\n",
       "      <td>000161a058600d5901f007fab4c27140</td>\n",
       "      <td>1</td>\n",
       "    </tr>\n",
       "    <tr>\n",
       "      <th>2</th>\n",
       "      <td>0001fd6190edaaf884bcaf3d49edf079</td>\n",
       "      <td>1</td>\n",
       "    </tr>\n",
       "    <tr>\n",
       "      <th>3</th>\n",
       "      <td>0002414f95344307404f0ace7a26f1d5</td>\n",
       "      <td>1</td>\n",
       "    </tr>\n",
       "    <tr>\n",
       "      <th>4</th>\n",
       "      <td>000379cdec625522490c315e70c7a9fb</td>\n",
       "      <td>1</td>\n",
       "    </tr>\n",
       "    <tr>\n",
       "      <th>5</th>\n",
       "      <td>0004164d20a9e969af783496f3408652</td>\n",
       "      <td>1</td>\n",
       "    </tr>\n",
       "    <tr>\n",
       "      <th>6</th>\n",
       "      <td>000419c5494106c306a97b5635748086</td>\n",
       "      <td>1</td>\n",
       "    </tr>\n",
       "    <tr>\n",
       "      <th>7</th>\n",
       "      <td>00046a560d407e99b969756e0b10f282</td>\n",
       "      <td>1</td>\n",
       "    </tr>\n",
       "    <tr>\n",
       "      <th>8</th>\n",
       "      <td>00050bf6e01e69d5c0fd612f1bcfb69c</td>\n",
       "      <td>1</td>\n",
       "    </tr>\n",
       "    <tr>\n",
       "      <th>9</th>\n",
       "      <td>000598caf2ef4117407665ac33275130</td>\n",
       "      <td>1</td>\n",
       "    </tr>\n",
       "  </tbody>\n",
       "</table>\n",
       "</div>"
      ],
      "text/plain": [
       "                        customer_id  qtd_pedidos\n",
       "0  00012a2ce6f8dcda20d059ce98491703            1\n",
       "1  000161a058600d5901f007fab4c27140            1\n",
       "2  0001fd6190edaaf884bcaf3d49edf079            1\n",
       "3  0002414f95344307404f0ace7a26f1d5            1\n",
       "4  000379cdec625522490c315e70c7a9fb            1\n",
       "5  0004164d20a9e969af783496f3408652            1\n",
       "6  000419c5494106c306a97b5635748086            1\n",
       "7  00046a560d407e99b969756e0b10f282            1\n",
       "8  00050bf6e01e69d5c0fd612f1bcfb69c            1\n",
       "9  000598caf2ef4117407665ac33275130            1"
      ]
     },
     "execution_count": 20,
     "metadata": {},
     "output_type": "execute_result"
    }
   ],
   "source": [
    "query= '''\n",
    "select \n",
    "    o.customer_id,\n",
    "    COUNT(i.order_item_id) AS qtd_pedidos\n",
    "from tb_orders o inner join tb_items i ON (i.order_id = o.order_id)\n",
    "group by o.customer_id \n",
    "order by qtd_pedidos \n",
    "limit 10;\n",
    "\n",
    "'''\n",
    "query_execute = pd.read_sql_query(query,conn)\n",
    "query_execute"
   ]
  },
  {
   "cell_type": "markdown",
   "metadata": {},
   "source": [
    "## 4.15 Quais vendedores existem na base?"
   ]
  },
  {
   "cell_type": "code",
   "execution_count": 21,
   "metadata": {
    "ExecuteTime": {
     "end_time": "2021-07-12T17:15:11.800079Z",
     "start_time": "2021-07-12T17:15:11.784099Z"
    }
   },
   "outputs": [
    {
     "data": {
      "text/html": [
       "<div>\n",
       "<style scoped>\n",
       "    .dataframe tbody tr th:only-of-type {\n",
       "        vertical-align: middle;\n",
       "    }\n",
       "\n",
       "    .dataframe tbody tr th {\n",
       "        vertical-align: top;\n",
       "    }\n",
       "\n",
       "    .dataframe thead th {\n",
       "        text-align: right;\n",
       "    }\n",
       "</style>\n",
       "<table border=\"1\" class=\"dataframe\">\n",
       "  <thead>\n",
       "    <tr style=\"text-align: right;\">\n",
       "      <th></th>\n",
       "      <th>seller_id</th>\n",
       "    </tr>\n",
       "  </thead>\n",
       "  <tbody>\n",
       "    <tr>\n",
       "      <th>0</th>\n",
       "      <td>3442f8959a84dea7ee197c632cb2df15</td>\n",
       "    </tr>\n",
       "    <tr>\n",
       "      <th>1</th>\n",
       "      <td>d1b65fc7debc3361ea86b5f14c68d2e2</td>\n",
       "    </tr>\n",
       "    <tr>\n",
       "      <th>2</th>\n",
       "      <td>ce3ad9de960102d0677a81f5d0bb7b2d</td>\n",
       "    </tr>\n",
       "    <tr>\n",
       "      <th>3</th>\n",
       "      <td>c0f3eea2e14555b6faeea3dd58c1b1c3</td>\n",
       "    </tr>\n",
       "    <tr>\n",
       "      <th>4</th>\n",
       "      <td>51a04a8a6bdcb23deccc82b0b80742cf</td>\n",
       "    </tr>\n",
       "    <tr>\n",
       "      <th>5</th>\n",
       "      <td>c240c4061717ac1806ae6ee72be3533b</td>\n",
       "    </tr>\n",
       "    <tr>\n",
       "      <th>6</th>\n",
       "      <td>e49c26c3edfa46d227d5121a6b6e4d37</td>\n",
       "    </tr>\n",
       "    <tr>\n",
       "      <th>7</th>\n",
       "      <td>1b938a7ec6ac5061a66a3766e0e75f90</td>\n",
       "    </tr>\n",
       "    <tr>\n",
       "      <th>8</th>\n",
       "      <td>768a86e36ad6aae3d03ee3c6433d61df</td>\n",
       "    </tr>\n",
       "    <tr>\n",
       "      <th>9</th>\n",
       "      <td>ccc4bbb5f32a6ab2b7066a4130f114e3</td>\n",
       "    </tr>\n",
       "  </tbody>\n",
       "</table>\n",
       "</div>"
      ],
      "text/plain": [
       "                          seller_id\n",
       "0  3442f8959a84dea7ee197c632cb2df15\n",
       "1  d1b65fc7debc3361ea86b5f14c68d2e2\n",
       "2  ce3ad9de960102d0677a81f5d0bb7b2d\n",
       "3  c0f3eea2e14555b6faeea3dd58c1b1c3\n",
       "4  51a04a8a6bdcb23deccc82b0b80742cf\n",
       "5  c240c4061717ac1806ae6ee72be3533b\n",
       "6  e49c26c3edfa46d227d5121a6b6e4d37\n",
       "7  1b938a7ec6ac5061a66a3766e0e75f90\n",
       "8  768a86e36ad6aae3d03ee3c6433d61df\n",
       "9  ccc4bbb5f32a6ab2b7066a4130f114e3"
      ]
     },
     "execution_count": 21,
     "metadata": {},
     "output_type": "execute_result"
    }
   ],
   "source": [
    "query = '''\n",
    "select \n",
    "    seller_id\n",
    "from tb_sellers\n",
    "limit 10;\n",
    "'''\n",
    "\n",
    "query_execute = pd.read_sql_query(query,conn)\n",
    "query_execute"
   ]
  },
  {
   "cell_type": "markdown",
   "metadata": {},
   "source": [
    "## 4.16  Qual a distribuição de vendedores por estado?"
   ]
  },
  {
   "cell_type": "code",
   "execution_count": 22,
   "metadata": {
    "ExecuteTime": {
     "end_time": "2021-07-12T17:15:11.823194Z",
     "start_time": "2021-07-12T17:15:11.803300Z"
    }
   },
   "outputs": [
    {
     "data": {
      "text/html": [
       "<div>\n",
       "<style scoped>\n",
       "    .dataframe tbody tr th:only-of-type {\n",
       "        vertical-align: middle;\n",
       "    }\n",
       "\n",
       "    .dataframe tbody tr th {\n",
       "        vertical-align: top;\n",
       "    }\n",
       "\n",
       "    .dataframe thead th {\n",
       "        text-align: right;\n",
       "    }\n",
       "</style>\n",
       "<table border=\"1\" class=\"dataframe\">\n",
       "  <thead>\n",
       "    <tr style=\"text-align: right;\">\n",
       "      <th></th>\n",
       "      <th>seller_state</th>\n",
       "      <th>qtd_vendedores</th>\n",
       "    </tr>\n",
       "  </thead>\n",
       "  <tbody>\n",
       "    <tr>\n",
       "      <th>0</th>\n",
       "      <td>SP</td>\n",
       "      <td>1849</td>\n",
       "    </tr>\n",
       "    <tr>\n",
       "      <th>1</th>\n",
       "      <td>PR</td>\n",
       "      <td>349</td>\n",
       "    </tr>\n",
       "    <tr>\n",
       "      <th>2</th>\n",
       "      <td>MG</td>\n",
       "      <td>244</td>\n",
       "    </tr>\n",
       "    <tr>\n",
       "      <th>3</th>\n",
       "      <td>SC</td>\n",
       "      <td>190</td>\n",
       "    </tr>\n",
       "    <tr>\n",
       "      <th>4</th>\n",
       "      <td>RJ</td>\n",
       "      <td>171</td>\n",
       "    </tr>\n",
       "    <tr>\n",
       "      <th>5</th>\n",
       "      <td>RS</td>\n",
       "      <td>129</td>\n",
       "    </tr>\n",
       "    <tr>\n",
       "      <th>6</th>\n",
       "      <td>GO</td>\n",
       "      <td>40</td>\n",
       "    </tr>\n",
       "    <tr>\n",
       "      <th>7</th>\n",
       "      <td>DF</td>\n",
       "      <td>30</td>\n",
       "    </tr>\n",
       "    <tr>\n",
       "      <th>8</th>\n",
       "      <td>ES</td>\n",
       "      <td>23</td>\n",
       "    </tr>\n",
       "    <tr>\n",
       "      <th>9</th>\n",
       "      <td>BA</td>\n",
       "      <td>19</td>\n",
       "    </tr>\n",
       "    <tr>\n",
       "      <th>10</th>\n",
       "      <td>CE</td>\n",
       "      <td>13</td>\n",
       "    </tr>\n",
       "    <tr>\n",
       "      <th>11</th>\n",
       "      <td>PE</td>\n",
       "      <td>9</td>\n",
       "    </tr>\n",
       "    <tr>\n",
       "      <th>12</th>\n",
       "      <td>PB</td>\n",
       "      <td>6</td>\n",
       "    </tr>\n",
       "    <tr>\n",
       "      <th>13</th>\n",
       "      <td>RN</td>\n",
       "      <td>5</td>\n",
       "    </tr>\n",
       "    <tr>\n",
       "      <th>14</th>\n",
       "      <td>MS</td>\n",
       "      <td>5</td>\n",
       "    </tr>\n",
       "    <tr>\n",
       "      <th>15</th>\n",
       "      <td>MT</td>\n",
       "      <td>4</td>\n",
       "    </tr>\n",
       "    <tr>\n",
       "      <th>16</th>\n",
       "      <td>SE</td>\n",
       "      <td>2</td>\n",
       "    </tr>\n",
       "    <tr>\n",
       "      <th>17</th>\n",
       "      <td>RO</td>\n",
       "      <td>2</td>\n",
       "    </tr>\n",
       "    <tr>\n",
       "      <th>18</th>\n",
       "      <td>PI</td>\n",
       "      <td>1</td>\n",
       "    </tr>\n",
       "    <tr>\n",
       "      <th>19</th>\n",
       "      <td>PA</td>\n",
       "      <td>1</td>\n",
       "    </tr>\n",
       "    <tr>\n",
       "      <th>20</th>\n",
       "      <td>MA</td>\n",
       "      <td>1</td>\n",
       "    </tr>\n",
       "    <tr>\n",
       "      <th>21</th>\n",
       "      <td>AM</td>\n",
       "      <td>1</td>\n",
       "    </tr>\n",
       "    <tr>\n",
       "      <th>22</th>\n",
       "      <td>AC</td>\n",
       "      <td>1</td>\n",
       "    </tr>\n",
       "  </tbody>\n",
       "</table>\n",
       "</div>"
      ],
      "text/plain": [
       "   seller_state  qtd_vendedores\n",
       "0            SP            1849\n",
       "1            PR             349\n",
       "2            MG             244\n",
       "3            SC             190\n",
       "4            RJ             171\n",
       "5            RS             129\n",
       "6            GO              40\n",
       "7            DF              30\n",
       "8            ES              23\n",
       "9            BA              19\n",
       "10           CE              13\n",
       "11           PE               9\n",
       "12           PB               6\n",
       "13           RN               5\n",
       "14           MS               5\n",
       "15           MT               4\n",
       "16           SE               2\n",
       "17           RO               2\n",
       "18           PI               1\n",
       "19           PA               1\n",
       "20           MA               1\n",
       "21           AM               1\n",
       "22           AC               1"
      ]
     },
     "execution_count": 22,
     "metadata": {},
     "output_type": "execute_result"
    }
   ],
   "source": [
    "query = '''\n",
    "\n",
    "select \n",
    "    s.seller_state,\n",
    "    COUNT(s.seller_id) AS qtd_vendedores\n",
    "from tb_sellers s\n",
    "group by s.seller_state\n",
    "order by qtd_vendedores DESC;\n",
    "'''\n",
    "query_execute = pd.read_sql_query(query,conn)\n",
    "query_execute"
   ]
  },
  {
   "cell_type": "markdown",
   "metadata": {},
   "source": [
    "## 4.17 Qual a distribuição de clientes por estado?"
   ]
  },
  {
   "cell_type": "code",
   "execution_count": 24,
   "metadata": {
    "ExecuteTime": {
     "end_time": "2021-07-12T17:15:50.884455Z",
     "start_time": "2021-07-12T17:15:50.761533Z"
    }
   },
   "outputs": [
    {
     "data": {
      "text/html": [
       "<div>\n",
       "<style scoped>\n",
       "    .dataframe tbody tr th:only-of-type {\n",
       "        vertical-align: middle;\n",
       "    }\n",
       "\n",
       "    .dataframe tbody tr th {\n",
       "        vertical-align: top;\n",
       "    }\n",
       "\n",
       "    .dataframe thead th {\n",
       "        text-align: right;\n",
       "    }\n",
       "</style>\n",
       "<table border=\"1\" class=\"dataframe\">\n",
       "  <thead>\n",
       "    <tr style=\"text-align: right;\">\n",
       "      <th></th>\n",
       "      <th>customer_state</th>\n",
       "      <th>qtd_clientes</th>\n",
       "    </tr>\n",
       "  </thead>\n",
       "  <tbody>\n",
       "    <tr>\n",
       "      <th>0</th>\n",
       "      <td>SP</td>\n",
       "      <td>41746</td>\n",
       "    </tr>\n",
       "    <tr>\n",
       "      <th>1</th>\n",
       "      <td>RJ</td>\n",
       "      <td>12852</td>\n",
       "    </tr>\n",
       "    <tr>\n",
       "      <th>2</th>\n",
       "      <td>MG</td>\n",
       "      <td>11635</td>\n",
       "    </tr>\n",
       "    <tr>\n",
       "      <th>3</th>\n",
       "      <td>RS</td>\n",
       "      <td>5466</td>\n",
       "    </tr>\n",
       "    <tr>\n",
       "      <th>4</th>\n",
       "      <td>PR</td>\n",
       "      <td>5045</td>\n",
       "    </tr>\n",
       "    <tr>\n",
       "      <th>5</th>\n",
       "      <td>SC</td>\n",
       "      <td>3637</td>\n",
       "    </tr>\n",
       "    <tr>\n",
       "      <th>6</th>\n",
       "      <td>BA</td>\n",
       "      <td>3380</td>\n",
       "    </tr>\n",
       "    <tr>\n",
       "      <th>7</th>\n",
       "      <td>DF</td>\n",
       "      <td>2140</td>\n",
       "    </tr>\n",
       "    <tr>\n",
       "      <th>8</th>\n",
       "      <td>ES</td>\n",
       "      <td>2033</td>\n",
       "    </tr>\n",
       "    <tr>\n",
       "      <th>9</th>\n",
       "      <td>GO</td>\n",
       "      <td>2020</td>\n",
       "    </tr>\n",
       "    <tr>\n",
       "      <th>10</th>\n",
       "      <td>PE</td>\n",
       "      <td>1652</td>\n",
       "    </tr>\n",
       "    <tr>\n",
       "      <th>11</th>\n",
       "      <td>CE</td>\n",
       "      <td>1336</td>\n",
       "    </tr>\n",
       "    <tr>\n",
       "      <th>12</th>\n",
       "      <td>PA</td>\n",
       "      <td>975</td>\n",
       "    </tr>\n",
       "    <tr>\n",
       "      <th>13</th>\n",
       "      <td>MT</td>\n",
       "      <td>907</td>\n",
       "    </tr>\n",
       "    <tr>\n",
       "      <th>14</th>\n",
       "      <td>MA</td>\n",
       "      <td>747</td>\n",
       "    </tr>\n",
       "    <tr>\n",
       "      <th>15</th>\n",
       "      <td>MS</td>\n",
       "      <td>715</td>\n",
       "    </tr>\n",
       "    <tr>\n",
       "      <th>16</th>\n",
       "      <td>PB</td>\n",
       "      <td>536</td>\n",
       "    </tr>\n",
       "    <tr>\n",
       "      <th>17</th>\n",
       "      <td>PI</td>\n",
       "      <td>495</td>\n",
       "    </tr>\n",
       "    <tr>\n",
       "      <th>18</th>\n",
       "      <td>RN</td>\n",
       "      <td>485</td>\n",
       "    </tr>\n",
       "    <tr>\n",
       "      <th>19</th>\n",
       "      <td>AL</td>\n",
       "      <td>413</td>\n",
       "    </tr>\n",
       "    <tr>\n",
       "      <th>20</th>\n",
       "      <td>SE</td>\n",
       "      <td>350</td>\n",
       "    </tr>\n",
       "    <tr>\n",
       "      <th>21</th>\n",
       "      <td>TO</td>\n",
       "      <td>280</td>\n",
       "    </tr>\n",
       "    <tr>\n",
       "      <th>22</th>\n",
       "      <td>RO</td>\n",
       "      <td>253</td>\n",
       "    </tr>\n",
       "    <tr>\n",
       "      <th>23</th>\n",
       "      <td>AM</td>\n",
       "      <td>148</td>\n",
       "    </tr>\n",
       "    <tr>\n",
       "      <th>24</th>\n",
       "      <td>AC</td>\n",
       "      <td>81</td>\n",
       "    </tr>\n",
       "    <tr>\n",
       "      <th>25</th>\n",
       "      <td>AP</td>\n",
       "      <td>68</td>\n",
       "    </tr>\n",
       "    <tr>\n",
       "      <th>26</th>\n",
       "      <td>RR</td>\n",
       "      <td>46</td>\n",
       "    </tr>\n",
       "  </tbody>\n",
       "</table>\n",
       "</div>"
      ],
      "text/plain": [
       "   customer_state  qtd_clientes\n",
       "0              SP         41746\n",
       "1              RJ         12852\n",
       "2              MG         11635\n",
       "3              RS          5466\n",
       "4              PR          5045\n",
       "5              SC          3637\n",
       "6              BA          3380\n",
       "7              DF          2140\n",
       "8              ES          2033\n",
       "9              GO          2020\n",
       "10             PE          1652\n",
       "11             CE          1336\n",
       "12             PA           975\n",
       "13             MT           907\n",
       "14             MA           747\n",
       "15             MS           715\n",
       "16             PB           536\n",
       "17             PI           495\n",
       "18             RN           485\n",
       "19             AL           413\n",
       "20             SE           350\n",
       "21             TO           280\n",
       "22             RO           253\n",
       "23             AM           148\n",
       "24             AC            81\n",
       "25             AP            68\n",
       "26             RR            46"
      ]
     },
     "execution_count": 24,
     "metadata": {},
     "output_type": "execute_result"
    }
   ],
   "source": [
    "query = '''\n",
    "\n",
    "select \n",
    "    c.customer_state,\n",
    "    COUNT(c.customer_id) AS qtd_clientes\n",
    "from tb_customers c\n",
    "group by c.customer_state\n",
    "order by qtd_clientes DESC\n",
    "'''\n",
    "\n",
    "query_execute = pd.read_sql_query(query,conn)\n",
    "query_execute"
   ]
  },
  {
   "cell_type": "markdown",
   "metadata": {},
   "source": [
    "## 4.18 Quais são os top 10 vendedores, em termos de números de vendas?"
   ]
  },
  {
   "cell_type": "code",
   "execution_count": 25,
   "metadata": {
    "ExecuteTime": {
     "end_time": "2021-07-12T17:15:55.999587Z",
     "start_time": "2021-07-12T17:15:54.947509Z"
    }
   },
   "outputs": [
    {
     "data": {
      "text/html": [
       "<div>\n",
       "<style scoped>\n",
       "    .dataframe tbody tr th:only-of-type {\n",
       "        vertical-align: middle;\n",
       "    }\n",
       "\n",
       "    .dataframe tbody tr th {\n",
       "        vertical-align: top;\n",
       "    }\n",
       "\n",
       "    .dataframe thead th {\n",
       "        text-align: right;\n",
       "    }\n",
       "</style>\n",
       "<table border=\"1\" class=\"dataframe\">\n",
       "  <thead>\n",
       "    <tr style=\"text-align: right;\">\n",
       "      <th></th>\n",
       "      <th>seller_id</th>\n",
       "      <th>qtd_sell</th>\n",
       "    </tr>\n",
       "  </thead>\n",
       "  <tbody>\n",
       "    <tr>\n",
       "      <th>0</th>\n",
       "      <td>6560211a19b47992c3666cc44a7e94c0</td>\n",
       "      <td>2033</td>\n",
       "    </tr>\n",
       "    <tr>\n",
       "      <th>1</th>\n",
       "      <td>4a3ca9315b744ce9f8e9374361493884</td>\n",
       "      <td>1987</td>\n",
       "    </tr>\n",
       "    <tr>\n",
       "      <th>2</th>\n",
       "      <td>1f50f920176fa81dab994f9023523100</td>\n",
       "      <td>1931</td>\n",
       "    </tr>\n",
       "    <tr>\n",
       "      <th>3</th>\n",
       "      <td>cc419e0650a3c5ba77189a1882b7556a</td>\n",
       "      <td>1775</td>\n",
       "    </tr>\n",
       "    <tr>\n",
       "      <th>4</th>\n",
       "      <td>da8622b14eb17ae2831f4ac5b9dab84a</td>\n",
       "      <td>1551</td>\n",
       "    </tr>\n",
       "    <tr>\n",
       "      <th>5</th>\n",
       "      <td>955fee9216a65b617aa5c0531780ce60</td>\n",
       "      <td>1499</td>\n",
       "    </tr>\n",
       "    <tr>\n",
       "      <th>6</th>\n",
       "      <td>1025f0e2d44d7041d6cf58b6550e0bfa</td>\n",
       "      <td>1428</td>\n",
       "    </tr>\n",
       "    <tr>\n",
       "      <th>7</th>\n",
       "      <td>7c67e1448b00f6e969d365cea6b010ab</td>\n",
       "      <td>1364</td>\n",
       "    </tr>\n",
       "    <tr>\n",
       "      <th>8</th>\n",
       "      <td>ea8482cd71df3c1969d7b9473ff13abc</td>\n",
       "      <td>1203</td>\n",
       "    </tr>\n",
       "    <tr>\n",
       "      <th>9</th>\n",
       "      <td>7a67c85e85bb2ce8582c35f2203ad736</td>\n",
       "      <td>1171</td>\n",
       "    </tr>\n",
       "  </tbody>\n",
       "</table>\n",
       "</div>"
      ],
      "text/plain": [
       "                          seller_id  qtd_sell\n",
       "0  6560211a19b47992c3666cc44a7e94c0      2033\n",
       "1  4a3ca9315b744ce9f8e9374361493884      1987\n",
       "2  1f50f920176fa81dab994f9023523100      1931\n",
       "3  cc419e0650a3c5ba77189a1882b7556a      1775\n",
       "4  da8622b14eb17ae2831f4ac5b9dab84a      1551\n",
       "5  955fee9216a65b617aa5c0531780ce60      1499\n",
       "6  1025f0e2d44d7041d6cf58b6550e0bfa      1428\n",
       "7  7c67e1448b00f6e969d365cea6b010ab      1364\n",
       "8  ea8482cd71df3c1969d7b9473ff13abc      1203\n",
       "9  7a67c85e85bb2ce8582c35f2203ad736      1171"
      ]
     },
     "execution_count": 25,
     "metadata": {},
     "output_type": "execute_result"
    }
   ],
   "source": [
    "query = '''\n",
    "WITH sb_sellers AS (\n",
    "    select\n",
    "        s.seller_id\n",
    "    from tb_sellers s\n",
    "    \n",
    "), sb_items AS (\n",
    "    select\n",
    "        i.order_id,\n",
    "        i.seller_id\n",
    "    from tb_items i\n",
    "    \n",
    "), sb_order AS (\n",
    "    select\n",
    "        o.order_id\n",
    "    from tb_orders o\n",
    "\n",
    ")\n",
    "select \n",
    "    vs.seller_id,\n",
    "    COUNT(vo.order_id) AS qtd_sell\n",
    "from sb_sellers vs inner join sb_items vi ON (vi.seller_id = vs.seller_id)\n",
    "                   inner join sb_order vo ON (vo.order_id = vi.order_id)\n",
    "group by vs.seller_id\n",
    "order by qtd_sell DESC\n",
    "limit 10;\n",
    "\n",
    "'''\n",
    "\n",
    "query_execute = pd.read_sql_query(query,conn)\n",
    "query_execute"
   ]
  },
  {
   "cell_type": "markdown",
   "metadata": {},
   "source": [
    "## 4.19 Quais são os 10 piores vendedores, em termos de número de vendas?"
   ]
  },
  {
   "cell_type": "code",
   "execution_count": 26,
   "metadata": {
    "ExecuteTime": {
     "end_time": "2021-07-12T17:15:57.942241Z",
     "start_time": "2021-07-12T17:15:56.883629Z"
    }
   },
   "outputs": [
    {
     "data": {
      "text/html": [
       "<div>\n",
       "<style scoped>\n",
       "    .dataframe tbody tr th:only-of-type {\n",
       "        vertical-align: middle;\n",
       "    }\n",
       "\n",
       "    .dataframe tbody tr th {\n",
       "        vertical-align: top;\n",
       "    }\n",
       "\n",
       "    .dataframe thead th {\n",
       "        text-align: right;\n",
       "    }\n",
       "</style>\n",
       "<table border=\"1\" class=\"dataframe\">\n",
       "  <thead>\n",
       "    <tr style=\"text-align: right;\">\n",
       "      <th></th>\n",
       "      <th>seller_id</th>\n",
       "      <th>qtd_sell</th>\n",
       "    </tr>\n",
       "  </thead>\n",
       "  <tbody>\n",
       "    <tr>\n",
       "      <th>0</th>\n",
       "      <td>001e6ad469a905060d959994f1b41e4f</td>\n",
       "      <td>1</td>\n",
       "    </tr>\n",
       "    <tr>\n",
       "      <th>1</th>\n",
       "      <td>003554e2dce176b5555353e4f3555ac8</td>\n",
       "      <td>1</td>\n",
       "    </tr>\n",
       "    <tr>\n",
       "      <th>2</th>\n",
       "      <td>00ab3eff1b5192e5f1a63bcecfee11c8</td>\n",
       "      <td>1</td>\n",
       "    </tr>\n",
       "    <tr>\n",
       "      <th>3</th>\n",
       "      <td>00d8b143d12632bad99c0ad66ad52825</td>\n",
       "      <td>1</td>\n",
       "    </tr>\n",
       "    <tr>\n",
       "      <th>4</th>\n",
       "      <td>04ee0ec01589969663ba5967c0e0bdc0</td>\n",
       "      <td>1</td>\n",
       "    </tr>\n",
       "    <tr>\n",
       "      <th>5</th>\n",
       "      <td>05a48cc8859962767935ab9087417fbb</td>\n",
       "      <td>1</td>\n",
       "    </tr>\n",
       "    <tr>\n",
       "      <th>6</th>\n",
       "      <td>05ca864204d09595ae591b93ea9cf93d</td>\n",
       "      <td>1</td>\n",
       "    </tr>\n",
       "    <tr>\n",
       "      <th>7</th>\n",
       "      <td>07a9bc7f61396b658ddf3ac534efe44c</td>\n",
       "      <td>1</td>\n",
       "    </tr>\n",
       "    <tr>\n",
       "      <th>8</th>\n",
       "      <td>08d1c9478fb0d7d7fcac9c0da4e82fc7</td>\n",
       "      <td>1</td>\n",
       "    </tr>\n",
       "    <tr>\n",
       "      <th>9</th>\n",
       "      <td>0a198e95d32b1be2da9424c962a6ebfa</td>\n",
       "      <td>1</td>\n",
       "    </tr>\n",
       "  </tbody>\n",
       "</table>\n",
       "</div>"
      ],
      "text/plain": [
       "                          seller_id  qtd_sell\n",
       "0  001e6ad469a905060d959994f1b41e4f         1\n",
       "1  003554e2dce176b5555353e4f3555ac8         1\n",
       "2  00ab3eff1b5192e5f1a63bcecfee11c8         1\n",
       "3  00d8b143d12632bad99c0ad66ad52825         1\n",
       "4  04ee0ec01589969663ba5967c0e0bdc0         1\n",
       "5  05a48cc8859962767935ab9087417fbb         1\n",
       "6  05ca864204d09595ae591b93ea9cf93d         1\n",
       "7  07a9bc7f61396b658ddf3ac534efe44c         1\n",
       "8  08d1c9478fb0d7d7fcac9c0da4e82fc7         1\n",
       "9  0a198e95d32b1be2da9424c962a6ebfa         1"
      ]
     },
     "execution_count": 26,
     "metadata": {},
     "output_type": "execute_result"
    }
   ],
   "source": [
    "query = '''\n",
    "WITH sb_sellers AS (\n",
    "    select\n",
    "        s.seller_id\n",
    "    from tb_sellers s\n",
    "    \n",
    "), sb_items AS (\n",
    "    select\n",
    "        i.order_id,\n",
    "        i.seller_id\n",
    "    from tb_items i\n",
    "    \n",
    "), sb_order AS (\n",
    "    select\n",
    "        o.order_id\n",
    "    from tb_orders o\n",
    "\n",
    ")\n",
    "select \n",
    "    vs.seller_id,\n",
    "    COUNT(vo.order_id) AS qtd_sell\n",
    "from sb_sellers vs inner join sb_items vi ON (vi.seller_id = vs.seller_id)\n",
    "                   inner join sb_order vo ON (vo.order_id = vi.order_id)\n",
    "group by vs.seller_id\n",
    "order by qtd_sell \n",
    "limit 10;\n",
    "\n",
    "'''\n",
    "\n",
    "query_execute = pd.read_sql_query(query,conn)\n",
    "query_execute"
   ]
  },
  {
   "cell_type": "markdown",
   "metadata": {},
   "source": [
    "## 4.20- Quantos produtos são comprados, em média, por pedido de compra?"
   ]
  },
  {
   "cell_type": "code",
   "execution_count": 27,
   "metadata": {
    "ExecuteTime": {
     "end_time": "2021-07-12T17:15:58.876403Z",
     "start_time": "2021-07-12T17:15:58.277395Z"
    }
   },
   "outputs": [
    {
     "data": {
      "text/html": [
       "<div>\n",
       "<style scoped>\n",
       "    .dataframe tbody tr th:only-of-type {\n",
       "        vertical-align: middle;\n",
       "    }\n",
       "\n",
       "    .dataframe tbody tr th {\n",
       "        vertical-align: top;\n",
       "    }\n",
       "\n",
       "    .dataframe thead th {\n",
       "        text-align: right;\n",
       "    }\n",
       "</style>\n",
       "<table border=\"1\" class=\"dataframe\">\n",
       "  <thead>\n",
       "    <tr style=\"text-align: right;\">\n",
       "      <th></th>\n",
       "      <th>order_id</th>\n",
       "      <th>average</th>\n",
       "    </tr>\n",
       "  </thead>\n",
       "  <tbody>\n",
       "    <tr>\n",
       "      <th>0</th>\n",
       "      <td>8272b63d03f5f79c56e9e4120aec44ef</td>\n",
       "      <td>11.0</td>\n",
       "    </tr>\n",
       "    <tr>\n",
       "      <th>1</th>\n",
       "      <td>ab14fdcfbe524636d65ee38360e22ce8</td>\n",
       "      <td>10.5</td>\n",
       "    </tr>\n",
       "    <tr>\n",
       "      <th>2</th>\n",
       "      <td>1b15974a0141d54e36626dca3fdc731a</td>\n",
       "      <td>10.5</td>\n",
       "    </tr>\n",
       "    <tr>\n",
       "      <th>3</th>\n",
       "      <td>9ef13efd6949e4573a18964dd1bbe7f5</td>\n",
       "      <td>8.0</td>\n",
       "    </tr>\n",
       "    <tr>\n",
       "      <th>4</th>\n",
       "      <td>428a2f660dc84138d969ccd69a0ab6d5</td>\n",
       "      <td>8.0</td>\n",
       "    </tr>\n",
       "    <tr>\n",
       "      <th>5</th>\n",
       "      <td>9bdc4d4c71aa1de4606060929dee888c</td>\n",
       "      <td>7.5</td>\n",
       "    </tr>\n",
       "    <tr>\n",
       "      <th>6</th>\n",
       "      <td>73c8ab38f07dc94389065f7eba4f297a</td>\n",
       "      <td>7.5</td>\n",
       "    </tr>\n",
       "    <tr>\n",
       "      <th>7</th>\n",
       "      <td>37ee401157a3a0b28c9c6d0ed8c3b24b</td>\n",
       "      <td>7.0</td>\n",
       "    </tr>\n",
       "    <tr>\n",
       "      <th>8</th>\n",
       "      <td>c05d6a79e55da72ca780ce90364abed9</td>\n",
       "      <td>6.5</td>\n",
       "    </tr>\n",
       "    <tr>\n",
       "      <th>9</th>\n",
       "      <td>af822dacd6f5cff7376413c03a388bb7</td>\n",
       "      <td>6.5</td>\n",
       "    </tr>\n",
       "  </tbody>\n",
       "</table>\n",
       "</div>"
      ],
      "text/plain": [
       "                           order_id  average\n",
       "0  8272b63d03f5f79c56e9e4120aec44ef     11.0\n",
       "1  ab14fdcfbe524636d65ee38360e22ce8     10.5\n",
       "2  1b15974a0141d54e36626dca3fdc731a     10.5\n",
       "3  9ef13efd6949e4573a18964dd1bbe7f5      8.0\n",
       "4  428a2f660dc84138d969ccd69a0ab6d5      8.0\n",
       "5  9bdc4d4c71aa1de4606060929dee888c      7.5\n",
       "6  73c8ab38f07dc94389065f7eba4f297a      7.5\n",
       "7  37ee401157a3a0b28c9c6d0ed8c3b24b      7.0\n",
       "8  c05d6a79e55da72ca780ce90364abed9      6.5\n",
       "9  af822dacd6f5cff7376413c03a388bb7      6.5"
      ]
     },
     "execution_count": 27,
     "metadata": {},
     "output_type": "execute_result"
    }
   ],
   "source": [
    "query = '''\n",
    "select \n",
    "    o.order_id,\n",
    "    AVG(i.order_item_id) AS average\n",
    "from tb_items i inner join tb_orders o ON (o.order_id = i.order_id)\n",
    "group by o.order_id\n",
    "order by average DESC\n",
    "limit 10;\n",
    "\n",
    "'''\n",
    "\n",
    "query_execute = pd.read_sql_query(query,conn)\n",
    "query_execute"
   ]
  },
  {
   "cell_type": "code",
   "execution_count": null,
   "metadata": {},
   "outputs": [],
   "source": []
  }
 ],
 "metadata": {
  "kernelspec": {
   "display_name": "Python 3",
   "language": "python",
   "name": "python3"
  },
  "language_info": {
   "codemirror_mode": {
    "name": "ipython",
    "version": 3
   },
   "file_extension": ".py",
   "mimetype": "text/x-python",
   "name": "python",
   "nbconvert_exporter": "python",
   "pygments_lexer": "ipython3",
   "version": "3.8.0"
  }
 },
 "nbformat": 4,
 "nbformat_minor": 2
}
